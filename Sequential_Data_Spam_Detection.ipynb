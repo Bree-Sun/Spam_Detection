{
  "nbformat": 4,
  "nbformat_minor": 0,
  "metadata": {
    "colab": {
      "provenance": [],
      "collapsed_sections": []
    },
    "kernelspec": {
      "name": "python3",
      "display_name": "Python 3"
    },
    "language_info": {
      "name": "python"
    },
    "accelerator": "GPU"
  },
  "cells": [
    {
      "cell_type": "markdown",
      "metadata": {
        "id": "fFMdtipUPNdu"
      },
      "source": [
        "#Spam Detection\n",
        "\n",
        "In this part a LSTM model is constructed for identifying spam from non spam messages.\n",
        "\n",
        "\"SMS Spam Collection Data Set\" available at http://archive.ics.uci.edu/ml/datasets/SMS+Spam+Collection"
      ]
    },
    {
      "cell_type": "code",
      "metadata": {
        "id": "HgfNOUaPa9z8"
      },
      "source": [
        "import torch\n",
        "import torch.nn as nn\n",
        "import torch.nn.functional as F\n",
        "import torch.optim as optim\n",
        "import numpy as np"
      ],
      "execution_count": null,
      "outputs": []
    },
    {
      "cell_type": "code",
      "metadata": {
        "id": "I_IfXHeTa90F",
        "colab": {
          "base_uri": "https://localhost:8080/"
        },
        "outputId": "9a8094ec-63c6-4b7c-c31e-22a62b4f9a33"
      },
      "source": [
        "i=0\n",
        "for line in open('SMSSpamCollection'):\n",
        "  print(line)\n",
        "  i+=1\n",
        "  if i>5:\n",
        "    break"
      ],
      "execution_count": null,
      "outputs": [
        {
          "output_type": "stream",
          "name": "stdout",
          "text": [
            "ham\tGo until jurong point, crazy.. Available only in bugis n great world la e buffet... Cine there got amore wat...\n",
            "\n",
            "ham\tOk lar... Joking wif u oni...\n",
            "\n",
            "spam\tFree entry in 2 a wkly comp to win FA Cup final tkts 21st May 2005. Text FA to 87121 to receive entry question(std txt rate)T&C's apply 08452810075over18's\n",
            "\n",
            "ham\tU dun say so early hor... U c already then say...\n",
            "\n",
            "ham\tNah I don't think he goes to usf, he lives around here though\n",
            "\n",
            "spam\tFreeMsg Hey there darling it's been 3 week's now and no word back! I'd like some fun you up for it still? Tb ok! XxX std chgs to send, £1.50 to rcv\n",
            "\n"
          ]
        }
      ]
    },
    {
      "cell_type": "markdown",
      "source": [
        "As it can be seen from the printed examples, the label value for spam messages is 'spam' while the label value for non-spam messages is 'ham'.\n"
      ],
      "metadata": {
        "id": "ROReJuHpNiwG"
      }
    },
    {
      "cell_type": "code",
      "metadata": {
        "id": "LgsqyemVa90e",
        "colab": {
          "base_uri": "https://localhost:8080/"
        },
        "outputId": "343c64b0-afbc-4e27-b7ab-de2b93dd5e4d"
      },
      "source": [
        "num_spam=0\n",
        "num_ham=0\n",
        "for line in open('SMSSpamCollection'):\n",
        "  if line[0]=='h':\n",
        "    num_ham+=1\n",
        "  elif line[0]=='s':\n",
        "    num_spam+=1\n",
        "print(\"num of spam messages\",num_spam)\n",
        "print(\"num of non-spam messages\", num_ham)"
      ],
      "execution_count": null,
      "outputs": [
        {
          "output_type": "stream",
          "name": "stdout",
          "text": [
            "num of spam messages 747\n",
            "num of non-spam messages 4827\n"
          ]
        }
      ]
    },
    {
      "cell_type": "markdown",
      "metadata": {
        "id": "d1WXxVt6a90h"
      },
      "source": [
        "The package `torchtext` is used to load, process, and batch the data.\n",
        "\n",
        "The goal is to build a **character level RNN**.\n"
      ]
    },
    {
      "cell_type": "markdown",
      "metadata": {
        "id": "ie_D0bv9a90k"
      },
      "source": [
        "The dataset has two fields: \n",
        "\n",
        "- a text field containing the sms messages,\n",
        "- a label field which will be converted into a binary label.\n",
        "\n",
        "The dataset is split into `train`, `valid`, and `test`using a 60-20-20 split."
      ]
    },
    {
      "cell_type": "code",
      "metadata": {
        "id": "P_Y6Puz9a90l"
      },
      "source": [
        "import torchtext\n",
        "\n",
        "text_field = torchtext.legacy.data.Field(sequential=True,      # text sequence\n",
        "                                  tokenize=lambda x: x, # because are building a character-RNN\n",
        "                                  include_lengths=True, # to track the length of sequences, for batching\n",
        "                                  batch_first=True,\n",
        "                                  use_vocab=True)       # to turn each character into an integer index\n",
        "label_field = torchtext.legacy.data.Field(sequential=False,    # not a sequence\n",
        "                                   use_vocab=False,     # don't need to track vocabulary\n",
        "                                   is_target=True,      \n",
        "                                   batch_first=True,\n",
        "                                   preprocessing=lambda x: int(x == 'spam')) # convert text to 0 and 1\n",
        "\n",
        "fields = [('label', label_field), ('sms', text_field)]\n",
        "dataset = torchtext.legacy.data.TabularDataset(\"SMSSpamCollection\", # name of the file\n",
        "                                        \"tsv\",               # fields are separated by a tab\n",
        "                                        fields)\n"
      ],
      "execution_count": null,
      "outputs": []
    },
    {
      "cell_type": "code",
      "source": [
        "dataset[0].sms"
      ],
      "metadata": {
        "colab": {
          "base_uri": "https://localhost:8080/",
          "height": 53
        },
        "id": "WX3-0GV_ubgK",
        "outputId": "3484149c-c86b-4bca-c323-0b526d18624e"
      },
      "execution_count": null,
      "outputs": [
        {
          "output_type": "execute_result",
          "data": {
            "text/plain": [
              "'Go until jurong point, crazy.. Available only in bugis n great world la e buffet... Cine there got amore wat...'"
            ],
            "application/vnd.google.colaboratory.intrinsic+json": {
              "type": "string"
            }
          },
          "metadata": {},
          "execution_count": 5
        }
      ]
    },
    {
      "cell_type": "code",
      "source": [
        "dataset[0].label"
      ],
      "metadata": {
        "colab": {
          "base_uri": "https://localhost:8080/"
        },
        "id": "sVKoYaqDudXO",
        "outputId": "0287326d-48ab-46e7-fdcb-24908c7e822e"
      },
      "execution_count": null,
      "outputs": [
        {
          "output_type": "execute_result",
          "data": {
            "text/plain": [
              "0"
            ]
          },
          "metadata": {},
          "execution_count": 6
        }
      ]
    },
    {
      "cell_type": "code",
      "source": [
        "train, test, valid = torchtext.legacy.data.Dataset.split(dataset, split_ratio=[0.6,0.2,0.2])"
      ],
      "metadata": {
        "id": "7Z6EZRBrtvXR"
      },
      "execution_count": null,
      "outputs": []
    },
    {
      "cell_type": "code",
      "source": [
        "print(len(train.examples),len(test.examples),len(valid.examples))"
      ],
      "metadata": {
        "colab": {
          "base_uri": "https://localhost:8080/"
        },
        "id": "Ajaks2mQ0D0u",
        "outputId": "5a91e908-4844-4b28-dd13-89a866ace790"
      },
      "execution_count": null,
      "outputs": [
        {
          "output_type": "stream",
          "name": "stdout",
          "text": [
            "3343 1115 1114\n"
          ]
        }
      ]
    },
    {
      "cell_type": "markdown",
      "metadata": {
        "id": "v6nP0Ks_a90o"
      },
      "source": [
        "There are many more non-spam messages than spam messages.\n",
        "This **imbalance** in training data will be problematic for training. This disparity can be fixed by duplicating spam messages in the training set,\n",
        "so that the training set is roughly balanced.\n"
      ]
    },
    {
      "cell_type": "code",
      "metadata": {
        "id": "FWvx9_rka90p"
      },
      "source": [
        "# save the original training examples\n",
        "old_train_examples = train.examples\n",
        "# get all the spam messages in `train`\n",
        "train_spam = []\n",
        "for item in train.examples:\n",
        "    if item.label == 1:\n",
        "        train_spam.append(item)\n",
        "# duplicate each spam message 6 more times\n",
        "train.examples = old_train_examples + train_spam * 6"
      ],
      "execution_count": null,
      "outputs": []
    },
    {
      "cell_type": "code",
      "source": [
        "len(train.examples)"
      ],
      "metadata": {
        "colab": {
          "base_uri": "https://localhost:8080/"
        },
        "id": "WLYiT8htz5yl",
        "outputId": "cc1f0731-33d6-43d2-9b07-1671f15032ff"
      },
      "execution_count": null,
      "outputs": [
        {
          "output_type": "execute_result",
          "data": {
            "text/plain": [
              "5929"
            ]
          },
          "metadata": {},
          "execution_count": 10
        }
      ]
    },
    {
      "cell_type": "code",
      "metadata": {
        "id": "8CQM8flKa90s"
      },
      "source": [
        "text_field.build_vocab(train)"
      ],
      "execution_count": null,
      "outputs": []
    },
    {
      "cell_type": "code",
      "source": [
        "text_field.vocab.stoi"
      ],
      "metadata": {
        "colab": {
          "base_uri": "https://localhost:8080/"
        },
        "id": "qmEo47CZ0c47",
        "outputId": "7d70870a-fa9b-475b-b97f-893c1ae1d1b8"
      },
      "execution_count": null,
      "outputs": [
        {
          "output_type": "execute_result",
          "data": {
            "text/plain": [
              "defaultdict(<bound method Vocab._default_unk_index of <torchtext.legacy.vocab.Vocab object at 0x7f2743065390>>,\n",
              "            {' ': 2,\n",
              "             '!': 44,\n",
              "             '\"': 77,\n",
              "             '#': 79,\n",
              "             '$': 87,\n",
              "             '%': 92,\n",
              "             '&': 64,\n",
              "             \"'\": 60,\n",
              "             '(': 76,\n",
              "             ')': 72,\n",
              "             '*': 74,\n",
              "             '+': 75,\n",
              "             ',': 46,\n",
              "             '-': 63,\n",
              "             '.': 16,\n",
              "             '/': 61,\n",
              "             '0': 14,\n",
              "             '1': 23,\n",
              "             '2': 26,\n",
              "             '3': 41,\n",
              "             '4': 37,\n",
              "             '5': 32,\n",
              "             '6': 43,\n",
              "             '7': 38,\n",
              "             '8': 28,\n",
              "             '9': 49,\n",
              "             ':': 65,\n",
              "             ';': 73,\n",
              "             '<': 86,\n",
              "             '<pad>': 1,\n",
              "             '<unk>': 0,\n",
              "             '=': 81,\n",
              "             '>': 85,\n",
              "             '?': 59,\n",
              "             '@': 82,\n",
              "             'A': 42,\n",
              "             'B': 57,\n",
              "             'C': 34,\n",
              "             'D': 54,\n",
              "             'E': 30,\n",
              "             'F': 55,\n",
              "             'G': 58,\n",
              "             'H': 52,\n",
              "             'I': 36,\n",
              "             'J': 71,\n",
              "             'K': 70,\n",
              "             'L': 53,\n",
              "             'M': 50,\n",
              "             'N': 39,\n",
              "             'O': 35,\n",
              "             'P': 48,\n",
              "             'Q': 80,\n",
              "             'R': 45,\n",
              "             'S': 33,\n",
              "             'T': 27,\n",
              "             'U': 51,\n",
              "             'V': 68,\n",
              "             'W': 47,\n",
              "             'X': 66,\n",
              "             'Y': 56,\n",
              "             'Z': 83,\n",
              "             '[': 105,\n",
              "             '\\\\': 106,\n",
              "             ']': 107,\n",
              "             '^': 108,\n",
              "             '_': 100,\n",
              "             'a': 6,\n",
              "             'b': 25,\n",
              "             'c': 18,\n",
              "             'd': 15,\n",
              "             'e': 3,\n",
              "             'f': 24,\n",
              "             'g': 22,\n",
              "             'h': 13,\n",
              "             'i': 9,\n",
              "             'j': 69,\n",
              "             'k': 29,\n",
              "             'l': 11,\n",
              "             'm': 17,\n",
              "             'n': 7,\n",
              "             'o': 4,\n",
              "             'p': 21,\n",
              "             'q': 78,\n",
              "             'r': 8,\n",
              "             's': 10,\n",
              "             't': 5,\n",
              "             'u': 12,\n",
              "             'v': 31,\n",
              "             'w': 20,\n",
              "             'x': 40,\n",
              "             'y': 19,\n",
              "             'z': 67,\n",
              "             '|': 90,\n",
              "             '~': 102,\n",
              "             '\\x91': 103,\n",
              "             '\\x92': 89,\n",
              "             '\\x93': 93,\n",
              "             '\\x94': 101,\n",
              "             '\\x96': 104,\n",
              "             '¡': 94,\n",
              "             '£': 62,\n",
              "             'Ü': 88,\n",
              "             'è': 109,\n",
              "             'ú': 97,\n",
              "             'ü': 84,\n",
              "             '–': 96,\n",
              "             '—': 110,\n",
              "             '‘': 91,\n",
              "             '’': 98,\n",
              "             '“': 99,\n",
              "             '…': 95,\n",
              "             '┾': 111,\n",
              "             '〨': 112,\n",
              "             '鈥': 113})"
            ]
          },
          "metadata": {},
          "execution_count": 12
        }
      ]
    },
    {
      "cell_type": "code",
      "source": [
        "text_field.vocab.itos"
      ],
      "metadata": {
        "colab": {
          "base_uri": "https://localhost:8080/"
        },
        "id": "0pDX9rrC2Ms4",
        "outputId": "40a534fb-5126-4c98-bb23-b2d5583d6d67"
      },
      "execution_count": null,
      "outputs": [
        {
          "output_type": "execute_result",
          "data": {
            "text/plain": [
              "['<unk>',\n",
              " '<pad>',\n",
              " ' ',\n",
              " 'e',\n",
              " 'o',\n",
              " 't',\n",
              " 'a',\n",
              " 'n',\n",
              " 'r',\n",
              " 'i',\n",
              " 's',\n",
              " 'l',\n",
              " 'u',\n",
              " 'h',\n",
              " '0',\n",
              " 'd',\n",
              " '.',\n",
              " 'm',\n",
              " 'c',\n",
              " 'y',\n",
              " 'w',\n",
              " 'p',\n",
              " 'g',\n",
              " '1',\n",
              " 'f',\n",
              " 'b',\n",
              " '2',\n",
              " 'T',\n",
              " '8',\n",
              " 'k',\n",
              " 'E',\n",
              " 'v',\n",
              " '5',\n",
              " 'S',\n",
              " 'C',\n",
              " 'O',\n",
              " 'I',\n",
              " '4',\n",
              " '7',\n",
              " 'N',\n",
              " 'x',\n",
              " '3',\n",
              " 'A',\n",
              " '6',\n",
              " '!',\n",
              " 'R',\n",
              " ',',\n",
              " 'W',\n",
              " 'P',\n",
              " '9',\n",
              " 'M',\n",
              " 'U',\n",
              " 'H',\n",
              " 'L',\n",
              " 'D',\n",
              " 'F',\n",
              " 'Y',\n",
              " 'B',\n",
              " 'G',\n",
              " '?',\n",
              " \"'\",\n",
              " '/',\n",
              " '£',\n",
              " '-',\n",
              " '&',\n",
              " ':',\n",
              " 'X',\n",
              " 'z',\n",
              " 'V',\n",
              " 'j',\n",
              " 'K',\n",
              " 'J',\n",
              " ')',\n",
              " ';',\n",
              " '*',\n",
              " '+',\n",
              " '(',\n",
              " '\"',\n",
              " 'q',\n",
              " '#',\n",
              " 'Q',\n",
              " '=',\n",
              " '@',\n",
              " 'Z',\n",
              " 'ü',\n",
              " '>',\n",
              " '<',\n",
              " '$',\n",
              " 'Ü',\n",
              " '\\x92',\n",
              " '|',\n",
              " '‘',\n",
              " '%',\n",
              " '\\x93',\n",
              " '¡',\n",
              " '…',\n",
              " '–',\n",
              " 'ú',\n",
              " '’',\n",
              " '“',\n",
              " '_',\n",
              " '\\x94',\n",
              " '~',\n",
              " '\\x91',\n",
              " '\\x96',\n",
              " '[',\n",
              " '\\\\',\n",
              " ']',\n",
              " '^',\n",
              " 'è',\n",
              " '—',\n",
              " '┾',\n",
              " '〨',\n",
              " '鈥']"
            ]
          },
          "metadata": {},
          "execution_count": 13
        }
      ]
    },
    {
      "cell_type": "code",
      "metadata": {
        "id": "V8N8qLWOa90y"
      },
      "source": [
        "train_iter = torchtext.legacy.data.BucketIterator(train,\n",
        "                                           batch_size=32,\n",
        "                                           sort_key=lambda x: len(x.sms), # to minimize padding\n",
        "                                           sort_within_batch=True,        # sort within each batch\n",
        "                                           repeat=False)                  # repeat the iterator for many epochs"
      ],
      "execution_count": null,
      "outputs": []
    },
    {
      "cell_type": "code",
      "metadata": {
        "id": "Qwz-rOaha902",
        "colab": {
          "base_uri": "https://localhost:8080/"
        },
        "outputId": "d261775c-2401-40f6-c458-afe363aedfb7"
      },
      "source": [
        "iter=0\n",
        "for batch in train_iter:\n",
        "  iter+=1\n",
        "  print(\"Maximum length:\",batch.sms[1][0].item())\n",
        "  num_pad=0\n",
        "  for i in range(32):\n",
        "    num_pad+=batch.sms[1][0].item()-batch.sms[1][i].item()\n",
        "  print(\"number of <pad> in the batch:\",num_pad)\n",
        "  if iter>9:\n",
        "    break\n",
        "    #print(len(batch))\n",
        "    #print(batch.sms)\n",
        "    #print(batch.label)"
      ],
      "execution_count": null,
      "outputs": [
        {
          "output_type": "stream",
          "name": "stdout",
          "text": [
            "Maximum length: 51\n",
            "number of <pad> in the batch: 12\n",
            "Maximum length: 40\n",
            "number of <pad> in the batch: 30\n",
            "Maximum length: 121\n",
            "number of <pad> in the batch: 14\n",
            "Maximum length: 93\n",
            "number of <pad> in the batch: 80\n",
            "Maximum length: 38\n",
            "number of <pad> in the batch: 15\n",
            "Maximum length: 152\n",
            "number of <pad> in the batch: 19\n",
            "Maximum length: 68\n",
            "number of <pad> in the batch: 29\n",
            "Maximum length: 55\n",
            "number of <pad> in the batch: 30\n",
            "Maximum length: 72\n",
            "number of <pad> in the batch: 17\n",
            "Maximum length: 160\n",
            "number of <pad> in the batch: 17\n"
          ]
        }
      ]
    },
    {
      "cell_type": "code",
      "source": [
        "batch.sms"
      ],
      "metadata": {
        "colab": {
          "base_uri": "https://localhost:8080/"
        },
        "id": "mGFUW65p4PDJ",
        "outputId": "3225a443-582c-4616-fb2f-f55cbe603d1d"
      },
      "execution_count": null,
      "outputs": [
        {
          "output_type": "execute_result",
          "data": {
            "text/plain": [
              "(tensor([[50,  6,  8,  ..., 21,  3,  8],\n",
              "         [52,  6, 15,  ..., 15, 10, 16],\n",
              "         [55,  8,  3,  ..., 26, 37, 26],\n",
              "         ...,\n",
              "         [52,  9,  2,  ..., 55, 53,  1],\n",
              "         [58,  4,  5,  ..., 12, 44,  1],\n",
              "         [51,  2, 18,  ...,  4,  7,  1]]),\n",
              " tensor([160, 160, 160, 160, 160, 160, 160, 160, 160, 160, 160, 160, 160, 160,\n",
              "         160, 159, 159, 159, 159, 159, 159, 159, 159, 159, 159, 159, 159, 159,\n",
              "         159, 159, 159, 159]))"
            ]
          },
          "metadata": {},
          "execution_count": 16
        }
      ]
    },
    {
      "cell_type": "markdown",
      "metadata": {
        "id": "y7HnqP6_a904"
      },
      "source": [
        "## Model Building\n"
      ]
    },
    {
      "cell_type": "code",
      "metadata": {
        "id": "jHl1p_Wwa905"
      },
      "source": [
        "dim=len(text_field.vocab.stoi)\n",
        "ident = torch.eye(dim)"
      ],
      "execution_count": null,
      "outputs": []
    },
    {
      "cell_type": "code",
      "source": [
        "ident.shape"
      ],
      "metadata": {
        "colab": {
          "base_uri": "https://localhost:8080/"
        },
        "id": "JitwFt5bHbyT",
        "outputId": "f2308a32-6a7d-49c8-95f2-f42dc165cb80"
      },
      "execution_count": null,
      "outputs": [
        {
          "output_type": "execute_result",
          "data": {
            "text/plain": [
              "torch.Size([114, 114])"
            ]
          },
          "metadata": {},
          "execution_count": 18
        }
      ]
    },
    {
      "cell_type": "code",
      "source": [
        "text,label=batch.sms[0], batch.label"
      ],
      "metadata": {
        "id": "5ld__YthIlah"
      },
      "execution_count": null,
      "outputs": []
    },
    {
      "cell_type": "code",
      "source": [
        "emb=nn.Embedding.from_pretrained(ident)"
      ],
      "metadata": {
        "id": "4bpLQM02IvvN"
      },
      "execution_count": null,
      "outputs": []
    },
    {
      "cell_type": "code",
      "source": [
        "text_emb=emb(text)"
      ],
      "metadata": {
        "id": "5Rqhm2bdO_oM"
      },
      "execution_count": null,
      "outputs": []
    },
    {
      "cell_type": "code",
      "source": [
        "text_emb.shape"
      ],
      "metadata": {
        "colab": {
          "base_uri": "https://localhost:8080/"
        },
        "id": "i0FpsZRgPEeo",
        "outputId": "33c30048-aa94-41db-f068-d93b46d3efe5"
      },
      "execution_count": null,
      "outputs": [
        {
          "output_type": "execute_result",
          "data": {
            "text/plain": [
              "torch.Size([32, 160, 114])"
            ]
          },
          "metadata": {},
          "execution_count": 22
        }
      ]
    },
    {
      "cell_type": "code",
      "metadata": {
        "id": "4LTQ7zFka909"
      },
      "source": [
        "class RNN(nn.Module):\n",
        "    def __init__(self, input_size, hidden_size, num_classes):\n",
        "        super(RNN, self).__init__()\n",
        "        self.emb = nn.Embedding.from_pretrained(ident)\n",
        "        self.hidden_size = hidden_size\n",
        "        self.rnn = nn.RNN(input_size, hidden_size, batch_first=True)\n",
        "        self.fc = nn.Linear(hidden_size, num_classes)\n",
        "    \n",
        "    def forward(self, x):\n",
        "        # Look up the embedding\n",
        "        x = self.emb(x)\n",
        "        # Set an initial hidden state\n",
        "        h0 = torch.zeros(1, x.size(0), self.hidden_size)\n",
        "        # Forward propagate the RNN\n",
        "        out, _ = self.rnn(x, h0)\n",
        "        #out = torch.cat([torch.max(out, dim=1)[0], \n",
        "                # torch.mean(out, dim=1)], dim=1)\n",
        "        # Pass the output of the last time step to the classifier\n",
        "        out = self.fc(torch.max(out, dim=1)[0])\n",
        "        return out"
      ],
      "execution_count": null,
      "outputs": []
    },
    {
      "cell_type": "markdown",
      "metadata": {
        "id": "vKIYPl_Ba90_"
      },
      "source": [
        "## Training "
      ]
    },
    {
      "cell_type": "code",
      "source": [
        "def iteration(batch_size):\n",
        "    train_iter = torchtext.legacy.data.BucketIterator(train,\n",
        "                                              batch_size=batch_size,\n",
        "                                              sort_key=lambda x: len(x.sms), \n",
        "                                              sort_within_batch=True,        \n",
        "                                              repeat=False)\n",
        "    valid_iter = torchtext.legacy.data.BucketIterator(valid,\n",
        "                                              batch_size=batch_size,\n",
        "                                              sort_key=lambda x: len(x.sms), \n",
        "                                              sort_within_batch=True,        \n",
        "                                              repeat=False)\n",
        "    test_iter = torchtext.legacy.data.BucketIterator(test,\n",
        "                                              batch_size=batch_size,\n",
        "                                              sort_key=lambda x: len(x.sms), \n",
        "                                              sort_within_batch=True,        \n",
        "                                              repeat=False) \n",
        "    return train_iter, valid_iter, test_iter           "
      ],
      "metadata": {
        "id": "zCP8moes6Wcr"
      },
      "execution_count": null,
      "outputs": []
    },
    {
      "cell_type": "code",
      "metadata": {
        "id": "pvNfhGD6a91A"
      },
      "source": [
        "def get_accuracy(model, data_iter, train=False):\n",
        "    correct, total = 0, 0 \n",
        "    if train==True:\n",
        "      iter=0\n",
        "      for batch in data_iter:\n",
        "          iter+=1\n",
        "          if iter==len(data_iter)-1:\n",
        "            break\n",
        "          texts=batch.sms[0]\n",
        "          labels=batch.label\n",
        "          output = model(texts)\n",
        "          pred = output.max(1, keepdim=True)[1]\n",
        "          correct += pred.eq(labels.view_as(pred)).sum().item()\n",
        "          total += labels.shape[0]\n",
        "    else:\n",
        "      for batch in data_iter:\n",
        "          texts=batch.sms[0]\n",
        "          labels=batch.label\n",
        "          output = model(texts)\n",
        "          pred = output.max(1, keepdim=True)[1]\n",
        "          correct += pred.eq(labels.view_as(pred)).sum().item()\n",
        "          total += labels.shape[0]\n",
        "    return correct / total"
      ],
      "execution_count": null,
      "outputs": []
    },
    {
      "cell_type": "code",
      "metadata": {
        "id": "CVtf7CJCa91D"
      },
      "source": [
        "import matplotlib.pyplot as plt\n",
        "def train_network(model, train_iter, valid_iter, num_epochs=5, learning_rate=1e-5):\n",
        "    criterion = nn.CrossEntropyLoss()\n",
        "    optimizer = torch.optim.Adam(model.parameters(), lr=learning_rate)\n",
        "    train_losses, valid_losses, train_acc, valid_acc = [], [], [], []\n",
        "    epochs = []\n",
        "    for epoch in range(num_epochs):\n",
        "        iter=0\n",
        "        for batch in train_iter:\n",
        "            iter+=1\n",
        "            if iter==len(train_iter)-1:\n",
        "              break\n",
        "            texts=batch.sms[0]\n",
        "            labels=batch.label\n",
        "            optimizer.zero_grad()\n",
        "            pred = model(texts)\n",
        "            loss = criterion(pred, labels)\n",
        "            loss.backward()\n",
        "            optimizer.step()\n",
        "            \n",
        "        train_losses.append(float(loss)) \n",
        "        epochs.append(epoch)    \n",
        "        train_acc.append(get_accuracy(model, train_iter, train=True))\n",
        "        valid_acc.append(get_accuracy(model, valid_iter))\n",
        "        print(\"Epoch %d; Loss %f; Train Acc %f; Val Acc %f\" % (\n",
        "                epoch+1, loss, train_acc[-1], valid_acc[-1]))\n",
        "\n",
        "    # plotting\n",
        "    plt.title(\"Training Curve\")\n",
        "    plt.plot(train_losses, label=\"Train\")\n",
        "    plt.xlabel(\"Epoch\")\n",
        "    plt.ylabel(\"Loss\")\n",
        "    plt.show()\n",
        "\n",
        "    plt.title(\"Training Curve\")\n",
        "    plt.plot(epochs, train_acc, label=\"Train\")\n",
        "    plt.plot(epochs, valid_acc, label=\"Validation\")\n",
        "    plt.xlabel(\"Epoch\")\n",
        "    plt.ylabel(\"Accuracy\")\n",
        "    plt.legend(loc='best')\n",
        "    plt.show()\n",
        "    return model"
      ],
      "execution_count": null,
      "outputs": []
    },
    {
      "cell_type": "code",
      "source": [
        "train_iter, valid_iter, test_iter = iteration(64)"
      ],
      "metadata": {
        "id": "SQhBOTwdCSHs"
      },
      "execution_count": null,
      "outputs": []
    },
    {
      "cell_type": "code",
      "source": [
        "model = RNN(dim, dim, 2)\n",
        "gen=train_network(model, train_iter, valid_iter, num_epochs=20, learning_rate=1e-4)"
      ],
      "metadata": {
        "colab": {
          "base_uri": "https://localhost:8080/",
          "height": 920
        },
        "id": "6p6-2dZUCarZ",
        "outputId": "a4dcdd12-9ad8-4ef7-9663-0859d8ae9494"
      },
      "execution_count": null,
      "outputs": [
        {
          "output_type": "stream",
          "name": "stdout",
          "text": [
            "Epoch 1; Loss 0.674003; Train Acc 0.490720; Val Acc 0.868043\n",
            "Epoch 2; Loss 0.659235; Train Acc 0.912821; Val Acc 0.921903\n",
            "Epoch 3; Loss 0.686383; Train Acc 0.694875; Val Acc 0.580790\n",
            "Epoch 4; Loss 0.558211; Train Acc 0.742210; Val Acc 0.644524\n",
            "Epoch 5; Loss 0.521481; Train Acc 0.877916; Val Acc 0.952424\n",
            "Epoch 6; Loss 0.439954; Train Acc 0.948238; Val Acc 0.931777\n",
            "Epoch 7; Loss 0.190425; Train Acc 0.918100; Val Acc 0.962298\n",
            "Epoch 8; Loss 0.232400; Train Acc 0.947386; Val Acc 0.962298\n",
            "Epoch 9; Loss 0.252133; Train Acc 0.951813; Val Acc 0.966786\n",
            "Epoch 10; Loss 0.173353; Train Acc 0.923378; Val Acc 0.975763\n",
            "Epoch 11; Loss 0.197444; Train Acc 0.954538; Val Acc 0.968582\n",
            "Epoch 12; Loss 0.223249; Train Acc 0.956922; Val Acc 0.971275\n",
            "Epoch 13; Loss 0.268997; Train Acc 0.936659; Val Acc 0.973070\n",
            "Epoch 14; Loss 0.296904; Train Acc 0.959135; Val Acc 0.971275\n",
            "Epoch 15; Loss 0.616009; Train Acc 0.948067; Val Acc 0.972172\n",
            "Epoch 16; Loss 0.159988; Train Acc 0.948067; Val Acc 0.973968\n",
            "Epoch 17; Loss 0.116651; Train Acc 0.964924; Val Acc 0.967684\n",
            "Epoch 18; Loss 0.107580; Train Acc 0.962711; Val Acc 0.973070\n",
            "Epoch 19; Loss 0.081665; Train Acc 0.966797; Val Acc 0.972172\n",
            "Epoch 20; Loss 0.025255; Train Acc 0.967819; Val Acc 0.965889\n"
          ]
        },
        {
          "output_type": "display_data",
          "data": {
            "text/plain": [
              "<Figure size 432x288 with 1 Axes>"
            ],
            "image/png": "[encoded data removed]"
          },
          "metadata": {
            "needs_background": "light"
          }
        },
        {
          "output_type": "display_data",
          "data": {
            "text/plain": [
              "<Figure size 432x288 with 1 Axes>"
            ],
            "image/png": "[encoded data removed]"
          },
          "metadata": {
            "needs_background": "light"
          }
        }
      ]
    },
    {
      "cell_type": "markdown",
      "source": [
        "**4 Hyperparameters are tuned**:\n",
        "\n",
        "1. RNN pooling: change the architecture of the model \n",
        "2. batch size: change the batch size using the function \"iteration\"\n",
        "3. learning rate: change the lr using the function \"train\"\n",
        "4. hidden size: change the model input\n"
      ],
      "metadata": {
        "id": "MJ4P8pE5Ehdb"
      }
    },
    {
      "cell_type": "code",
      "source": [
        "def train_noplot(model, train_iter, valid_iter, num_epochs=5, learning_rate=1e-5):\n",
        "    criterion = nn.CrossEntropyLoss()\n",
        "    optimizer = torch.optim.Adam(model.parameters(), lr=learning_rate)\n",
        "    train_losses, valid_losses, train_acc, valid_acc = [], [], [], []\n",
        "    epochs = []\n",
        "    for epoch in range(num_epochs):\n",
        "        iter=0\n",
        "        for batch in train_iter:\n",
        "            iter+=1\n",
        "            if iter==len(train_iter)-1: #drop the last batch in training\n",
        "              break\n",
        "            texts=batch.sms[0]\n",
        "            labels=batch.label\n",
        "            optimizer.zero_grad()\n",
        "            pred = model(texts)\n",
        "            loss = criterion(pred, labels)\n",
        "            loss.backward()\n",
        "            optimizer.step()\n",
        "            \n",
        "        train_losses.append(float(loss)) \n",
        "        epochs.append(epoch)    \n",
        "        train_acc.append(get_accuracy(model, train_iter, train=True))\n",
        "        valid_acc.append(get_accuracy(model, valid_iter))\n",
        "        print(\"Epoch %d; Loss %f; Train Acc %f; Val Acc %f\" % (\n",
        "                epoch+1, loss, train_acc[-1], valid_acc[-1]))\n",
        "    return model"
      ],
      "metadata": {
        "id": "HyFG6SqnHa_P"
      },
      "execution_count": null,
      "outputs": []
    },
    {
      "cell_type": "code",
      "metadata": {
        "id": "A2GEWfDca91G"
      },
      "source": [
        "# 1) different RNN pooling\n",
        "class RNN_1(nn.Module):\n",
        "    def __init__(self, input_size, hidden_size, num_classes):\n",
        "        super(RNN_1, self).__init__()\n",
        "        self.emb = nn.Embedding.from_pretrained(ident)\n",
        "        self.hidden_size = hidden_size\n",
        "        self.rnn = nn.RNN(input_size, hidden_size, batch_first=True)\n",
        "        self.fc = nn.Linear(hidden_size, num_classes)\n",
        "    \n",
        "    def forward(self, x):\n",
        "        # Look up the embedding\n",
        "        x = self.emb(x)\n",
        "        # Set an initial hidden state\n",
        "        h0 = torch.zeros(1, x.size(0), self.hidden_size)\n",
        "        # Forward propagate the RNN\n",
        "        out, _ = self.rnn(x, h0)\n",
        "        # Pass the output of the last time step to the classifier\n",
        "        out = self.fc(out[:, -1, :])\n",
        "        return out\n",
        "\n",
        "class RNN_2(nn.Module):\n",
        "    def __init__(self, input_size, hidden_size, num_classes):\n",
        "        super(RNN_2, self).__init__()\n",
        "        self.emb = nn.Embedding.from_pretrained(ident)\n",
        "        self.hidden_size = hidden_size\n",
        "        self.rnn = nn.RNN(input_size, hidden_size, batch_first=True)\n",
        "        self.fc0 = nn.Linear(hidden_size*2, hidden_size)\n",
        "        self.fc = nn.Linear(hidden_size, num_classes)\n",
        "    \n",
        "    def forward(self, x):\n",
        "        # Look up the embedding\n",
        "        x = self.emb(x)\n",
        "        # Set an initial hidden state\n",
        "        h0 = torch.zeros(1, x.size(0), self.hidden_size)\n",
        "        # Forward propagate the RNN\n",
        "        out, _ = self.rnn(x, h0)\n",
        "        out = torch.cat([torch.max(out, dim=1)[0], torch.mean(out, dim=1)], dim=1)\n",
        "        # Pass the output of the last time step to the classifier\n",
        "        out=self.fc0(out)\n",
        "        out = self.fc(out)\n",
        "        return out"
      ],
      "execution_count": null,
      "outputs": []
    },
    {
      "cell_type": "code",
      "source": [
        "model = RNN_1(dim, dim, 2)\n",
        "gen_rnn1=train_noplot(model, train_iter, valid_iter, num_epochs=20, learning_rate=1e-4)"
      ],
      "metadata": {
        "colab": {
          "base_uri": "https://localhost:8080/"
        },
        "id": "-WXZT0oCHgkn",
        "outputId": "d6c970c9-f6d7-4a29-c45e-cbe8647fe6fb"
      },
      "execution_count": null,
      "outputs": [
        {
          "output_type": "stream",
          "name": "stdout",
          "text": [
            "Epoch 1; Loss 0.675220; Train Acc 0.642726; Val Acc 0.846499\n",
            "Epoch 2; Loss 0.641867; Train Acc 0.764873; Val Acc 0.859964\n",
            "Epoch 3; Loss 0.283975; Train Acc 0.899017; Val Acc 0.915619\n",
            "Epoch 4; Loss 0.575987; Train Acc 0.814198; Val Acc 0.887792\n",
            "Epoch 5; Loss 0.462022; Train Acc 0.890185; Val Acc 0.929084\n",
            "Epoch 6; Loss 0.652760; Train Acc 0.862023; Val Acc 0.928187\n",
            "Epoch 7; Loss 0.237814; Train Acc 0.923679; Val Acc 0.932675\n",
            "Epoch 8; Loss 0.091394; Train Acc 0.928679; Val Acc 0.928187\n",
            "Epoch 9; Loss 0.171895; Train Acc 0.936177; Val Acc 0.946140\n",
            "Epoch 10; Loss 0.213174; Train Acc 0.760373; Val Acc 0.609515\n",
            "Epoch 11; Loss 0.146437; Train Acc 0.935344; Val Acc 0.945242\n",
            "Epoch 12; Loss 0.681016; Train Acc 0.778037; Val Acc 0.732496\n",
            "Epoch 13; Loss 0.188455; Train Acc 0.899850; Val Acc 0.912926\n",
            "Epoch 14; Loss 0.140153; Train Acc 0.942676; Val Acc 0.935368\n",
            "Epoch 15; Loss 0.185759; Train Acc 0.946009; Val Acc 0.941652\n",
            "Epoch 16; Loss 0.166201; Train Acc 0.952508; Val Acc 0.937163\n",
            "Epoch 17; Loss 0.188134; Train Acc 0.953841; Val Acc 0.951526\n",
            "Epoch 18; Loss 0.073472; Train Acc 0.951841; Val Acc 0.968582\n",
            "Epoch 19; Loss 0.202735; Train Acc 0.955341; Val Acc 0.956014\n",
            "Epoch 20; Loss 0.225189; Train Acc 0.948342; Val Acc 0.969479\n"
          ]
        }
      ]
    },
    {
      "cell_type": "code",
      "source": [
        "model = RNN_2(dim, dim, 2)\n",
        "gen_rnn2=train_noplot(model, train_iter, valid_iter, num_epochs=20, learning_rate=1e-4)"
      ],
      "metadata": {
        "colab": {
          "base_uri": "https://localhost:8080/"
        },
        "id": "v5FjT6yVKvYI",
        "outputId": "342831ea-3a5a-467b-af9a-1f49df755fd1"
      },
      "execution_count": null,
      "outputs": [
        {
          "output_type": "stream",
          "name": "stdout",
          "text": [
            "Epoch 1; Loss 0.658914; Train Acc 0.516747; Val Acc 0.131957\n",
            "Epoch 2; Loss 0.613340; Train Acc 0.528079; Val Acc 0.138241\n",
            "Epoch 3; Loss 0.317871; Train Acc 0.918680; Val Acc 0.750449\n",
            "Epoch 4; Loss 0.143859; Train Acc 0.938010; Val Acc 0.885996\n",
            "Epoch 5; Loss 0.044259; Train Acc 0.931345; Val Acc 0.964991\n",
            "Epoch 6; Loss 0.097761; Train Acc 0.941010; Val Acc 0.969479\n",
            "Epoch 7; Loss 0.163677; Train Acc 0.955507; Val Acc 0.921903\n",
            "Epoch 8; Loss 0.128375; Train Acc 0.962173; Val Acc 0.950628\n",
            "Epoch 9; Loss 0.037313; Train Acc 0.961340; Val Acc 0.971275\n",
            "Epoch 10; Loss 0.035962; Train Acc 0.965339; Val Acc 0.973070\n",
            "Epoch 11; Loss 0.398931; Train Acc 0.959173; Val Acc 0.974865\n",
            "Epoch 12; Loss 0.051336; Train Acc 0.968005; Val Acc 0.965889\n",
            "Epoch 13; Loss 0.014500; Train Acc 0.971505; Val Acc 0.971275\n",
            "Epoch 14; Loss 0.425235; Train Acc 0.969672; Val Acc 0.972172\n",
            "Epoch 15; Loss 0.013740; Train Acc 0.968505; Val Acc 0.975763\n",
            "Epoch 16; Loss 0.170380; Train Acc 0.972671; Val Acc 0.964991\n",
            "Epoch 17; Loss 0.109213; Train Acc 0.970338; Val Acc 0.977558\n",
            "Epoch 18; Loss 0.101231; Train Acc 0.963673; Val Acc 0.979354\n",
            "Epoch 19; Loss 0.126861; Train Acc 0.975671; Val Acc 0.966786\n",
            "Epoch 20; Loss 0.030418; Train Acc 0.977670; Val Acc 0.973070\n"
          ]
        }
      ]
    },
    {
      "cell_type": "markdown",
      "source": [
        "It seems like concatenating the results of average and max pooling gets better train/validation accuracy."
      ],
      "metadata": {
        "id": "Wyi6ZMqZhbsB"
      }
    },
    {
      "cell_type": "code",
      "source": [
        "#2) batch size\n",
        "train_iter1, valid_iter1, test_iter1 = iteration(128)"
      ],
      "metadata": {
        "id": "TEs8kioyRFbl"
      },
      "execution_count": null,
      "outputs": []
    },
    {
      "cell_type": "code",
      "source": [
        "model = RNN(dim, dim, 2)\n",
        "gen_b1=train_noplot(model, train_iter1, valid_iter1, num_epochs=20, learning_rate=1e-4)"
      ],
      "metadata": {
        "colab": {
          "base_uri": "https://localhost:8080/"
        },
        "id": "3IQ3rW0QTQ2d",
        "outputId": "fe5a23d9-659d-4279-8472-1bab93a7e0e9"
      },
      "execution_count": null,
      "outputs": [
        {
          "output_type": "stream",
          "name": "stdout",
          "text": [
            "Epoch 1; Loss 0.738223; Train Acc 0.483253; Val Acc 0.868043\n",
            "Epoch 2; Loss 0.678864; Train Acc 0.926012; Val Acc 0.902154\n",
            "Epoch 3; Loss 0.651966; Train Acc 0.918847; Val Acc 0.875224\n",
            "Epoch 4; Loss 0.658931; Train Acc 0.936511; Val Acc 0.911131\n",
            "Epoch 5; Loss 0.673667; Train Acc 0.838194; Val Acc 0.732496\n",
            "Epoch 6; Loss 0.654074; Train Acc 0.943676; Val Acc 0.918312\n",
            "Epoch 7; Loss 0.383301; Train Acc 0.939677; Val Acc 0.966786\n",
            "Epoch 8; Loss 0.292201; Train Acc 0.952341; Val Acc 0.961400\n",
            "Epoch 9; Loss 0.317923; Train Acc 0.947175; Val Acc 0.935368\n",
            "Epoch 10; Loss 0.332357; Train Acc 0.950175; Val Acc 0.947038\n",
            "Epoch 11; Loss 0.289319; Train Acc 0.928679; Val Acc 0.971275\n",
            "Epoch 12; Loss 0.188054; Train Acc 0.934344; Val Acc 0.972172\n",
            "Epoch 13; Loss 0.228824; Train Acc 0.931345; Val Acc 0.972172\n",
            "Epoch 14; Loss 0.383058; Train Acc 0.925179; Val Acc 0.973070\n",
            "Epoch 15; Loss 0.453868; Train Acc 0.949008; Val Acc 0.966786\n",
            "Epoch 16; Loss 0.484067; Train Acc 0.924513; Val Acc 0.973070\n",
            "Epoch 17; Loss 0.318752; Train Acc 0.953674; Val Acc 0.952424\n",
            "Epoch 18; Loss 0.430967; Train Acc 0.950508; Val Acc 0.973070\n",
            "Epoch 19; Loss 0.211544; Train Acc 0.953674; Val Acc 0.973070\n",
            "Epoch 20; Loss 0.161536; Train Acc 0.940343; Val Acc 0.973070\n"
          ]
        }
      ]
    },
    {
      "cell_type": "code",
      "source": [
        "train_iter1, valid_iter1, test_iter1 = iteration(32)\n",
        "model = RNN(dim, dim, 2)\n",
        "gen_b2=train_noplot(model, train_iter1, valid_iter1, num_epochs=20, learning_rate=1e-4)"
      ],
      "metadata": {
        "colab": {
          "base_uri": "https://localhost:8080/"
        },
        "id": "cOI8eUpLYM2o",
        "outputId": "2d8964a7-9c9d-411f-9002-81b7cb29d1b0"
      },
      "execution_count": null,
      "outputs": [
        {
          "output_type": "stream",
          "name": "stdout",
          "text": [
            "Epoch 1; Loss 0.694022; Train Acc 0.581403; Val Acc 0.236984\n",
            "Epoch 2; Loss 0.554829; Train Acc 0.945509; Val Acc 0.928187\n",
            "Epoch 3; Loss 0.198220; Train Acc 0.939343; Val Acc 0.970377\n",
            "Epoch 4; Loss 0.491467; Train Acc 0.925012; Val Acc 0.974865\n",
            "Epoch 5; Loss 0.054804; Train Acc 0.957507; Val Acc 0.972172\n",
            "Epoch 6; Loss 0.077855; Train Acc 0.961673; Val Acc 0.971275\n",
            "Epoch 7; Loss 0.053136; Train Acc 0.966339; Val Acc 0.971275\n",
            "Epoch 8; Loss 0.183088; Train Acc 0.967839; Val Acc 0.970377\n",
            "Epoch 9; Loss 0.771092; Train Acc 0.969172; Val Acc 0.975763\n",
            "Epoch 10; Loss 0.026595; Train Acc 0.969338; Val Acc 0.973968\n",
            "Epoch 11; Loss 0.044618; Train Acc 0.940510; Val Acc 0.978456\n",
            "Epoch 12; Loss 0.229966; Train Acc 0.960340; Val Acc 0.973968\n",
            "Epoch 13; Loss 0.081730; Train Acc 0.970505; Val Acc 0.956912\n",
            "Epoch 14; Loss 0.042509; Train Acc 0.974004; Val Acc 0.972172\n",
            "Epoch 15; Loss 0.024999; Train Acc 0.972838; Val Acc 0.972172\n",
            "Epoch 16; Loss 0.047989; Train Acc 0.977170; Val Acc 0.971275\n",
            "Epoch 17; Loss 0.010494; Train Acc 0.979003; Val Acc 0.971275\n",
            "Epoch 18; Loss 0.037339; Train Acc 0.973671; Val Acc 0.975763\n",
            "Epoch 19; Loss 0.103239; Train Acc 0.976004; Val Acc 0.965889\n",
            "Epoch 20; Loss 0.289751; Train Acc 0.979837; Val Acc 0.971275\n"
          ]
        }
      ]
    },
    {
      "cell_type": "markdown",
      "source": [
        "Smaller batch size appears to work better and gets higher and more stable accuracy values"
      ],
      "metadata": {
        "id": "exFONuHxiDjy"
      }
    },
    {
      "cell_type": "code",
      "source": [
        "#3) learning rate\n",
        "model = RNN(dim, dim, 2)\n",
        "gen_lr1=train_noplot(model, train_iter, valid_iter, num_epochs=20, learning_rate=1e-5)"
      ],
      "metadata": {
        "colab": {
          "base_uri": "https://localhost:8080/"
        },
        "id": "0wsmUGUHbIv5",
        "outputId": "7a0ea92f-be14-4bdf-a8c1-f14493f82c70"
      },
      "execution_count": null,
      "outputs": [
        {
          "output_type": "stream",
          "name": "stdout",
          "text": [
            "Epoch 1; Loss 0.673082; Train Acc 0.482920; Val Acc 0.867145\n",
            "Epoch 2; Loss 0.679465; Train Acc 0.482920; Val Acc 0.867145\n",
            "Epoch 3; Loss 0.722879; Train Acc 0.482753; Val Acc 0.867145\n",
            "Epoch 4; Loss 0.719012; Train Acc 0.481420; Val Acc 0.863555\n",
            "Epoch 5; Loss 0.661249; Train Acc 0.479753; Val Acc 0.859964\n",
            "Epoch 6; Loss 0.661648; Train Acc 0.478920; Val Acc 0.855476\n",
            "Epoch 7; Loss 0.707870; Train Acc 0.480087; Val Acc 0.856373\n",
            "Epoch 8; Loss 0.679864; Train Acc 0.589068; Val Acc 0.861759\n",
            "Epoch 9; Loss 0.682123; Train Acc 0.766039; Val Acc 0.868043\n",
            "Epoch 10; Loss 0.689946; Train Acc 0.807532; Val Acc 0.881508\n",
            "Epoch 11; Loss 0.678662; Train Acc 0.872188; Val Acc 0.815978\n",
            "Epoch 12; Loss 0.678848; Train Acc 0.871188; Val Acc 0.784560\n",
            "Epoch 13; Loss 0.688238; Train Acc 0.815031; Val Acc 0.655296\n",
            "Epoch 14; Loss 0.660393; Train Acc 0.838360; Val Acc 0.690305\n",
            "Epoch 15; Loss 0.653519; Train Acc 0.735211; Val Acc 0.508977\n",
            "Epoch 16; Loss 0.693239; Train Acc 0.774871; Val Acc 0.568223\n",
            "Epoch 17; Loss 0.675177; Train Acc 0.724213; Val Acc 0.483842\n",
            "Epoch 18; Loss 0.675217; Train Acc 0.710715; Val Acc 0.453321\n",
            "Epoch 19; Loss 0.636261; Train Acc 0.756707; Val Acc 0.536804\n",
            "Epoch 20; Loss 0.648304; Train Acc 0.780203; Val Acc 0.569120\n"
          ]
        }
      ]
    },
    {
      "cell_type": "code",
      "source": [
        "model = RNN(dim, dim, 2)\n",
        "gen_lr2=train_noplot(model, train_iter, valid_iter, num_epochs=20, learning_rate=1e-3)"
      ],
      "metadata": {
        "colab": {
          "base_uri": "https://localhost:8080/"
        },
        "id": "7Js0c4V_bVOa",
        "outputId": "58a50786-6e9d-44e5-c096-48bfea49ff39"
      },
      "execution_count": null,
      "outputs": [
        {
          "output_type": "stream",
          "name": "stdout",
          "text": [
            "Epoch 1; Loss 0.370838; Train Acc 0.940677; Val Acc 0.970377\n",
            "Epoch 2; Loss 0.211439; Train Acc 0.959840; Val Acc 0.972172\n",
            "Epoch 3; Loss 0.020241; Train Acc 0.966339; Val Acc 0.972172\n",
            "Epoch 4; Loss 0.031700; Train Acc 0.971005; Val Acc 0.974865\n",
            "Epoch 5; Loss 0.064976; Train Acc 0.968505; Val Acc 0.974865\n",
            "Epoch 6; Loss 0.159987; Train Acc 0.972838; Val Acc 0.977558\n",
            "Epoch 7; Loss 0.386329; Train Acc 0.976504; Val Acc 0.973968\n",
            "Epoch 8; Loss 0.021507; Train Acc 0.980503; Val Acc 0.965889\n",
            "Epoch 9; Loss 0.136841; Train Acc 0.983503; Val Acc 0.979354\n",
            "Epoch 10; Loss 0.043550; Train Acc 0.988669; Val Acc 0.981149\n",
            "Epoch 11; Loss 0.020200; Train Acc 0.968339; Val Acc 0.983842\n",
            "Epoch 12; Loss 0.048553; Train Acc 0.986336; Val Acc 0.972172\n",
            "Epoch 13; Loss 0.055202; Train Acc 0.995667; Val Acc 0.984740\n",
            "Epoch 14; Loss 0.031706; Train Acc 0.993834; Val Acc 0.974865\n",
            "Epoch 15; Loss 0.010185; Train Acc 0.991668; Val Acc 0.983842\n",
            "Epoch 16; Loss 0.011554; Train Acc 0.998667; Val Acc 0.982944\n",
            "Epoch 17; Loss 0.033144; Train Acc 0.999000; Val Acc 0.985637\n",
            "Epoch 18; Loss 0.002573; Train Acc 0.997000; Val Acc 0.983842\n",
            "Epoch 19; Loss 0.002529; Train Acc 0.999333; Val Acc 0.983842\n",
            "Epoch 20; Loss 0.008334; Train Acc 0.996834; Val Acc 0.983842\n"
          ]
        }
      ]
    },
    {
      "cell_type": "markdown",
      "source": [
        "larger learning rate here gets higher train/validation accuracy and the model trains faster. "
      ],
      "metadata": {
        "id": "JJGsl0EniVR3"
      }
    },
    {
      "cell_type": "code",
      "source": [
        "#4) hidden size\n",
        "model = RNN(dim, dim*2, 2)\n",
        "gen_hs1=train_noplot(model, train_iter, valid_iter, num_epochs=20, learning_rate=1e-4)"
      ],
      "metadata": {
        "colab": {
          "base_uri": "https://localhost:8080/"
        },
        "id": "FLa7Kc1Xdbc0",
        "outputId": "0feac9d8-161b-44a2-cea5-8b8ba1affe58"
      },
      "execution_count": null,
      "outputs": [
        {
          "output_type": "stream",
          "name": "stdout",
          "text": [
            "Epoch 1; Loss 0.614229; Train Acc 0.516747; Val Acc 0.131957\n",
            "Epoch 2; Loss 0.723537; Train Acc 0.521080; Val Acc 0.139138\n",
            "Epoch 3; Loss 0.383656; Train Acc 0.941843; Val Acc 0.920108\n",
            "Epoch 4; Loss 0.057749; Train Acc 0.910515; Val Acc 0.833932\n",
            "Epoch 5; Loss 0.275511; Train Acc 0.950842; Val Acc 0.933573\n",
            "Epoch 6; Loss 0.200698; Train Acc 0.948175; Val Acc 0.970377\n",
            "Epoch 7; Loss 0.288724; Train Acc 0.953008; Val Acc 0.972172\n",
            "Epoch 8; Loss 0.153048; Train Acc 0.943843; Val Acc 0.974865\n",
            "Epoch 9; Loss 0.121545; Train Acc 0.960673; Val Acc 0.972172\n",
            "Epoch 10; Loss 0.129042; Train Acc 0.948342; Val Acc 0.923698\n",
            "Epoch 11; Loss 0.232124; Train Acc 0.955341; Val Acc 0.973968\n",
            "Epoch 12; Loss 0.087930; Train Acc 0.964839; Val Acc 0.973968\n",
            "Epoch 13; Loss 0.166008; Train Acc 0.968672; Val Acc 0.972172\n",
            "Epoch 14; Loss 0.068443; Train Acc 0.966506; Val Acc 0.972172\n",
            "Epoch 15; Loss 0.036570; Train Acc 0.970505; Val Acc 0.968582\n",
            "Epoch 16; Loss 0.114373; Train Acc 0.951175; Val Acc 0.974865\n",
            "Epoch 17; Loss 0.285972; Train Acc 0.964839; Val Acc 0.973070\n",
            "Epoch 18; Loss 0.148977; Train Acc 0.963339; Val Acc 0.950628\n",
            "Epoch 19; Loss 0.107648; Train Acc 0.972671; Val Acc 0.972172\n",
            "Epoch 20; Loss 0.278547; Train Acc 0.973171; Val Acc 0.971275\n"
          ]
        }
      ]
    },
    {
      "cell_type": "code",
      "source": [
        "model = RNN(dim, dim//2, 2)\n",
        "gen_hs2=train_noplot(model, train_iter, valid_iter, num_epochs=20, learning_rate=1e-4)"
      ],
      "metadata": {
        "colab": {
          "base_uri": "https://localhost:8080/"
        },
        "id": "d899ow-xehke",
        "outputId": "fd948f61-afe6-48a4-a646-23a3172fdd12"
      },
      "execution_count": null,
      "outputs": [
        {
          "output_type": "stream",
          "name": "stdout",
          "text": [
            "Epoch 1; Loss 0.694886; Train Acc 0.483253; Val Acc 0.868043\n",
            "Epoch 2; Loss 0.685017; Train Acc 0.664056; Val Acc 0.903950\n",
            "Epoch 3; Loss 0.680298; Train Acc 0.910848; Val Acc 0.855476\n",
            "Epoch 4; Loss 0.618735; Train Acc 0.933678; Val Acc 0.892280\n",
            "Epoch 5; Loss 0.610229; Train Acc 0.934011; Val Acc 0.895871\n",
            "Epoch 6; Loss 0.520918; Train Acc 0.947342; Val Acc 0.932675\n",
            "Epoch 7; Loss 0.549317; Train Acc 0.939177; Val Acc 0.952424\n",
            "Epoch 8; Loss 0.322925; Train Acc 0.939343; Val Acc 0.960503\n",
            "Epoch 9; Loss 0.175663; Train Acc 0.940843; Val Acc 0.938959\n",
            "Epoch 10; Loss 0.175606; Train Acc 0.940010; Val Acc 0.960503\n",
            "Epoch 11; Loss 0.171324; Train Acc 0.943176; Val Acc 0.967684\n",
            "Epoch 12; Loss 0.302143; Train Acc 0.947842; Val Acc 0.963196\n",
            "Epoch 13; Loss 0.087722; Train Acc 0.923846; Val Acc 0.967684\n",
            "Epoch 14; Loss 0.173891; Train Acc 0.947509; Val Acc 0.965889\n",
            "Epoch 15; Loss 0.175904; Train Acc 0.949342; Val Acc 0.968582\n",
            "Epoch 16; Loss 0.651224; Train Acc 0.836361; Val Acc 0.663375\n",
            "Epoch 17; Loss 0.097761; Train Acc 0.951008; Val Acc 0.966786\n",
            "Epoch 18; Loss 0.211508; Train Acc 0.942176; Val Acc 0.972172\n",
            "Epoch 19; Loss 0.272614; Train Acc 0.953008; Val Acc 0.965889\n",
            "Epoch 20; Loss 0.116504; Train Acc 0.929012; Val Acc 0.971275\n"
          ]
        }
      ]
    },
    {
      "cell_type": "markdown",
      "source": [
        "It seems like with RNN_2 with the learning rate of 1e-3 and the batch size of 32, the model can yield the highest train/validation accuracy"
      ],
      "metadata": {
        "id": "CTS4QJa8OiL6"
      }
    },
    {
      "cell_type": "code",
      "source": [
        "model = RNN_2(dim, dim, 2)\n",
        "train_iter1, valid_iter1, test_iter1 = iteration(32)\n",
        "gen_best=train_network(model, train_iter1, valid_iter1, num_epochs=20, learning_rate=1e-3)"
      ],
      "metadata": {
        "colab": {
          "base_uri": "https://localhost:8080/",
          "height": 920
        },
        "id": "03hYAqvOO5-F",
        "outputId": "7e43e85f-013d-4261-fd78-e3e2e4936d94"
      },
      "execution_count": null,
      "outputs": [
        {
          "output_type": "stream",
          "name": "stdout",
          "text": [
            "Epoch 1; Loss 0.042095; Train Acc 0.949190; Val Acc 0.976661\n",
            "Epoch 2; Loss 0.040733; Train Acc 0.975277; Val Acc 0.975763\n",
            "Epoch 3; Loss 0.008887; Train Acc 0.993521; Val Acc 0.988330\n",
            "Epoch 4; Loss 0.009195; Train Acc 0.998977; Val Acc 0.991023\n",
            "Epoch 5; Loss 0.001248; Train Acc 0.999829; Val Acc 0.991023\n",
            "Epoch 6; Loss 0.002970; Train Acc 1.000000; Val Acc 0.989228\n",
            "Epoch 7; Loss 0.001441; Train Acc 1.000000; Val Acc 0.991921\n",
            "Epoch 8; Loss 0.000254; Train Acc 1.000000; Val Acc 0.991023\n",
            "Epoch 9; Loss 0.001958; Train Acc 1.000000; Val Acc 0.990126\n",
            "Epoch 10; Loss 0.000029; Train Acc 1.000000; Val Acc 0.991023\n",
            "Epoch 11; Loss 0.000144; Train Acc 1.000000; Val Acc 0.991023\n",
            "Epoch 12; Loss 0.000384; Train Acc 1.000000; Val Acc 0.991023\n",
            "Epoch 13; Loss 0.000004; Train Acc 1.000000; Val Acc 0.991023\n",
            "Epoch 14; Loss 0.000012; Train Acc 1.000000; Val Acc 0.990126\n",
            "Epoch 15; Loss 0.000126; Train Acc 1.000000; Val Acc 0.991023\n",
            "Epoch 16; Loss 0.000147; Train Acc 1.000000; Val Acc 0.990126\n",
            "Epoch 17; Loss 0.000073; Train Acc 1.000000; Val Acc 0.991023\n",
            "Epoch 18; Loss 0.000014; Train Acc 1.000000; Val Acc 0.991921\n",
            "Epoch 19; Loss 0.000027; Train Acc 1.000000; Val Acc 0.990126\n",
            "Epoch 20; Loss 0.000062; Train Acc 1.000000; Val Acc 0.991921\n"
          ]
        },
        {
          "output_type": "display_data",
          "data": {
            "text/plain": [
              "<Figure size 432x288 with 1 Axes>"
            ],
            "image/png": "[encoded data removed]"
          },
          "metadata": {
            "needs_background": "light"
          }
        },
        {
          "output_type": "display_data",
          "data": {
            "text/plain": [
              "<Figure size 432x288 with 1 Axes>"
            ],
            "image/png": "[encoded data removed]"
          },
          "metadata": {
            "needs_background": "light"
          }
        }
      ]
    },
    {
      "cell_type": "markdown",
      "metadata": {
        "id": "v7DY56rKa91I"
      },
      "source": [
        "\n",
        "Before deploying a machine learning model, we usually want to have a better understanding\n",
        "of how our model performs beyond its validation accuracy. "
      ]
    },
    {
      "cell_type": "code",
      "metadata": {
        "id": "7ggbQSdba91J"
      },
      "source": [
        "# Create a Dataset of only spam validation examples\n",
        "valid_spam = torchtext.legacy.data.Dataset(\n",
        "    [e for e in valid.examples if e.label == 1],\n",
        "    valid.fields)\n",
        "# Create a Dataset of only non-spam validation examples\n",
        "valid_nospam = torchtext.legacy.data.Dataset(\n",
        "    [e for e in valid.examples if e.label == 0],\n",
        "    valid.fields)"
      ],
      "execution_count": null,
      "outputs": []
    },
    {
      "cell_type": "code",
      "source": [
        "valid_spam_iter=torchtext.legacy.data.BucketIterator(valid_spam,\n",
        "                                        batch_size=32,\n",
        "                                        sort_key=lambda x: len(x.sms), \n",
        "                                        sort_within_batch=True,        \n",
        "                                        repeat=False)\n",
        "valid_nospam_iter=torchtext.legacy.data.BucketIterator(valid_nospam,\n",
        "                                        batch_size=32,\n",
        "                                        sort_key=lambda x: len(x.sms), \n",
        "                                        sort_within_batch=True,        \n",
        "                                        repeat=False)"
      ],
      "metadata": {
        "id": "EakYWRMlglgm"
      },
      "execution_count": null,
      "outputs": []
    },
    {
      "cell_type": "code",
      "source": [
        "1-get_accuracy(gen_best,valid_spam_iter) #false negative"
      ],
      "metadata": {
        "colab": {
          "base_uri": "https://localhost:8080/"
        },
        "id": "nTlXMpFpged1",
        "outputId": "64980841-ecd6-4e76-cde0-0182b6d52724"
      },
      "execution_count": null,
      "outputs": [
        {
          "output_type": "execute_result",
          "data": {
            "text/plain": [
              "0.05590062111801242"
            ]
          },
          "metadata": {},
          "execution_count": 35
        }
      ]
    },
    {
      "cell_type": "code",
      "source": [
        "1-get_accuracy(gen_best,valid_nospam_iter) #false positive"
      ],
      "metadata": {
        "colab": {
          "base_uri": "https://localhost:8080/"
        },
        "id": "_xtFIYdqg3hH",
        "outputId": "9bba65ce-5e9e-4b12-cbca-4f86aaa16f55"
      },
      "execution_count": null,
      "outputs": [
        {
          "output_type": "execute_result",
          "data": {
            "text/plain": [
              "0.0031479538300105414"
            ]
          },
          "metadata": {},
          "execution_count": 36
        }
      ]
    },
    {
      "cell_type": "markdown",
      "source": [
        "A false positive could result in user missing important texts, while a false negative could lead to the user being scammed, which comparably is worse than the former. Since when a text is falsely flagged as positive, the user can still check the message and recognize if it's actually a non-spam text."
      ],
      "metadata": {
        "id": "lFmqZfDwL6_q"
      }
    },
    {
      "cell_type": "markdown",
      "metadata": {
        "id": "Gznefulsa91V"
      },
      "source": [
        "## Evaluation"
      ]
    },
    {
      "cell_type": "code",
      "metadata": {
        "id": "D5L5D-A1a91W",
        "colab": {
          "base_uri": "https://localhost:8080/"
        },
        "outputId": "acc862e4-f9fc-4e5f-e802-1cd6838804e5"
      },
      "source": [
        "#final test accuracy\n",
        "get_accuracy(gen_best,test_iter1)"
      ],
      "execution_count": null,
      "outputs": [
        {
          "output_type": "execute_result",
          "data": {
            "text/plain": [
              "0.9910313901345291"
            ]
          },
          "metadata": {},
          "execution_count": 37
        }
      ]
    },
    {
      "cell_type": "markdown",
      "metadata": {
        "id": "6Hjmd8rca91Y"
      },
      "source": [
        "\n",
        "\n",
        "Report the false positive rate and false negative rate of the model across the test set."
      ]
    },
    {
      "cell_type": "code",
      "metadata": {
        "id": "GFiAKztJa91Z"
      },
      "source": [
        "test_spam = torchtext.legacy.data.Dataset(\n",
        "    [e for e in test.examples if e.label == 1],\n",
        "    test.fields)\n",
        "# Create a Dataset of only non-spam validation examples\n",
        "test_nospam = torchtext.legacy.data.Dataset(\n",
        "    [e for e in test.examples if e.label == 0],\n",
        "    test.fields)"
      ],
      "execution_count": null,
      "outputs": []
    },
    {
      "cell_type": "code",
      "source": [
        "test_spam_iter=torchtext.legacy.data.BucketIterator(test_spam,\n",
        "                                        batch_size=32,\n",
        "                                        sort_key=lambda x: len(x.sms), \n",
        "                                        sort_within_batch=True,        \n",
        "                                        repeat=False)\n",
        "test_nospam_iter=torchtext.legacy.data.BucketIterator(test_nospam,\n",
        "                                        batch_size=32,\n",
        "                                        sort_key=lambda x: len(x.sms), \n",
        "                                        sort_within_batch=True,        \n",
        "                                        repeat=False)"
      ],
      "metadata": {
        "id": "85L95jRlQNw4"
      },
      "execution_count": null,
      "outputs": []
    },
    {
      "cell_type": "code",
      "source": [
        "1-get_accuracy(gen_best,test_spam_iter)#false negative"
      ],
      "metadata": {
        "colab": {
          "base_uri": "https://localhost:8080/"
        },
        "id": "MDfXz8F5QXZ6",
        "outputId": "eceb92a2-d5b1-4dca-81e3-b45e2ccbeeb1"
      },
      "execution_count": null,
      "outputs": [
        {
          "output_type": "execute_result",
          "data": {
            "text/plain": [
              "0.04516129032258065"
            ]
          },
          "metadata": {},
          "execution_count": 40
        }
      ]
    },
    {
      "cell_type": "code",
      "source": [
        "1-get_accuracy(gen_best,test_nospam_iter)#false positive"
      ],
      "metadata": {
        "colab": {
          "base_uri": "https://localhost:8080/"
        },
        "id": "K7r5fl_3QvbM",
        "outputId": "9cc021f2-6d5f-45b8-c610-59cb583b6187"
      },
      "execution_count": null,
      "outputs": [
        {
          "output_type": "execute_result",
          "data": {
            "text/plain": [
              "0.0031250000000000444"
            ]
          },
          "metadata": {},
          "execution_count": 41
        }
      ]
    },
    {
      "cell_type": "code",
      "metadata": {
        "id": "h_2nSJq8a91b"
      },
      "source": [
        "#test on new message\n",
        "msg = \"machine learning is sooo cool!\""
      ],
      "execution_count": null,
      "outputs": []
    },
    {
      "cell_type": "code",
      "source": [
        "id = [text_field.vocab.stoi[w]        # lookup the index of word\n",
        "          for w in msg\n",
        "          if w in text_field.vocab.stoi]"
      ],
      "metadata": {
        "id": "g8XFU9l_SVKr"
      },
      "execution_count": null,
      "outputs": []
    },
    {
      "cell_type": "code",
      "source": [
        "correct, total = 0, 0\n",
        "texts=torch.Tensor(id)\n",
        "output = gen_best(texts.int().unsqueeze(0))\n",
        "pred=output.max(1, keepdim=True)[1]"
      ],
      "metadata": {
        "id": "PHEZuyCsTQ1V"
      },
      "execution_count": null,
      "outputs": []
    },
    {
      "cell_type": "code",
      "source": [
        "F.softmax(output)"
      ],
      "metadata": {
        "colab": {
          "base_uri": "https://localhost:8080/"
        },
        "id": "4JSTeu4qLY2Q",
        "outputId": "895c0b3a-3565-4c83-9116-df968ea3c6af"
      },
      "execution_count": null,
      "outputs": [
        {
          "output_type": "stream",
          "name": "stderr",
          "text": [
            "/usr/local/lib/python3.7/dist-packages/ipykernel_launcher.py:1: UserWarning: Implicit dimension choice for softmax has been deprecated. Change the call to include dim=X as an argument.\n",
            "  \"\"\"Entry point for launching an IPython kernel.\n"
          ]
        },
        {
          "output_type": "execute_result",
          "data": {
            "text/plain": [
              "tensor([[9.9999e-01, 8.5149e-06]], grad_fn=<SoftmaxBackward0>)"
            ]
          },
          "metadata": {},
          "execution_count": 45
        }
      ]
    },
    {
      "cell_type": "markdown",
      "source": [
        "As it can be seen, to be able to detect spam accurately, the model requires a lot of training. Therefore, the task of detecting spam is rather computationally expensive. But the results of extensive training is very good.\n",
        "\n",
        "A simple baseline model should be a model that's easy to train and build, like random prediction algorithm. A random prediction model basically takes the unique classes in training set then randomly generates a class for each validation sample. Therefore, the input of such a model should be the classes (0 and 1) in training set, and the output is a list with the length of the number of samples in validation set."
      ],
      "metadata": {
        "id": "zNtOSOVjCZ55"
      }
    },
    {
      "cell_type": "markdown",
      "metadata": {
        "id": "zIR3Q5l0v1HP"
      },
      "source": [
        "# Transfer Learning\n",
        "\n",
        "In this part we will compare our earlier model with one that takes advantage of a generative RNN model to improve the prediction. There are several ways to implement transfer learning with RNNs, here we will use an approach known as ULMFiT developed by fastai. Rather than rebuilding the model from scratch, we will take advantage of the fastai library.\n",
        "\n"
      ]
    },
    {
      "cell_type": "code",
      "metadata": {
        "id": "5R-_BQyiAMoo",
        "colab": {
          "base_uri": "https://localhost:8080/"
        },
        "outputId": "ab368f48-0369-4f79-c763-75c394645984"
      },
      "source": [
        "# install relevant libraries\n",
        "!pip install fastai"
      ],
      "execution_count": null,
      "outputs": [
        {
          "output_type": "stream",
          "name": "stdout",
          "text": [
            "Requirement already satisfied: fastai in /usr/local/lib/python3.7/dist-packages (1.0.61)\n",
            "Requirement already satisfied: bottleneck in /usr/local/lib/python3.7/dist-packages (from fastai) (1.3.4)\n",
            "Requirement already satisfied: numexpr in /usr/local/lib/python3.7/dist-packages (from fastai) (2.8.1)\n",
            "Requirement already satisfied: pandas in /usr/local/lib/python3.7/dist-packages (from fastai) (1.3.5)\n",
            "Requirement already satisfied: pyyaml in /usr/local/lib/python3.7/dist-packages (from fastai) (3.13)\n",
            "Requirement already satisfied: numpy>=1.15 in /usr/local/lib/python3.7/dist-packages (from fastai) (1.21.5)\n",
            "Requirement already satisfied: Pillow in /usr/local/lib/python3.7/dist-packages (from fastai) (7.1.2)\n",
            "Requirement already satisfied: requests in /usr/local/lib/python3.7/dist-packages (from fastai) (2.23.0)\n",
            "Requirement already satisfied: spacy>=2.0.18 in /usr/local/lib/python3.7/dist-packages (from fastai) (2.2.4)\n",
            "Requirement already satisfied: beautifulsoup4 in /usr/local/lib/python3.7/dist-packages (from fastai) (4.6.3)\n",
            "Requirement already satisfied: matplotlib in /usr/local/lib/python3.7/dist-packages (from fastai) (3.2.2)\n",
            "Requirement already satisfied: torchvision in /usr/local/lib/python3.7/dist-packages (from fastai) (0.11.1+cu111)\n",
            "Requirement already satisfied: packaging in /usr/local/lib/python3.7/dist-packages (from fastai) (21.3)\n",
            "Requirement already satisfied: fastprogress>=0.2.1 in /usr/local/lib/python3.7/dist-packages (from fastai) (1.0.2)\n",
            "Requirement already satisfied: scipy in /usr/local/lib/python3.7/dist-packages (from fastai) (1.4.1)\n",
            "Requirement already satisfied: torch>=1.0.0 in /usr/local/lib/python3.7/dist-packages (from fastai) (1.10.0+cu111)\n",
            "Requirement already satisfied: nvidia-ml-py3 in /usr/local/lib/python3.7/dist-packages (from fastai) (7.352.0)\n",
            "Requirement already satisfied: murmurhash<1.1.0,>=0.28.0 in /usr/local/lib/python3.7/dist-packages (from spacy>=2.0.18->fastai) (1.0.6)\n",
            "Requirement already satisfied: cymem<2.1.0,>=2.0.2 in /usr/local/lib/python3.7/dist-packages (from spacy>=2.0.18->fastai) (2.0.6)\n",
            "Requirement already satisfied: preshed<3.1.0,>=3.0.2 in /usr/local/lib/python3.7/dist-packages (from spacy>=2.0.18->fastai) (3.0.6)\n",
            "Requirement already satisfied: setuptools in /usr/local/lib/python3.7/dist-packages (from spacy>=2.0.18->fastai) (57.4.0)\n",
            "Requirement already satisfied: catalogue<1.1.0,>=0.0.7 in /usr/local/lib/python3.7/dist-packages (from spacy>=2.0.18->fastai) (1.0.0)\n",
            "Requirement already satisfied: blis<0.5.0,>=0.4.0 in /usr/local/lib/python3.7/dist-packages (from spacy>=2.0.18->fastai) (0.4.1)\n",
            "Requirement already satisfied: plac<1.2.0,>=0.9.6 in /usr/local/lib/python3.7/dist-packages (from spacy>=2.0.18->fastai) (1.1.3)\n",
            "Requirement already satisfied: thinc==7.4.0 in /usr/local/lib/python3.7/dist-packages (from spacy>=2.0.18->fastai) (7.4.0)\n",
            "Requirement already satisfied: tqdm<5.0.0,>=4.38.0 in /usr/local/lib/python3.7/dist-packages (from spacy>=2.0.18->fastai) (4.63.0)\n",
            "Requirement already satisfied: wasabi<1.1.0,>=0.4.0 in /usr/local/lib/python3.7/dist-packages (from spacy>=2.0.18->fastai) (0.9.0)\n",
            "Requirement already satisfied: srsly<1.1.0,>=1.0.2 in /usr/local/lib/python3.7/dist-packages (from spacy>=2.0.18->fastai) (1.0.5)\n",
            "Requirement already satisfied: importlib-metadata>=0.20 in /usr/local/lib/python3.7/dist-packages (from catalogue<1.1.0,>=0.0.7->spacy>=2.0.18->fastai) (4.11.3)\n",
            "Requirement already satisfied: zipp>=0.5 in /usr/local/lib/python3.7/dist-packages (from importlib-metadata>=0.20->catalogue<1.1.0,>=0.0.7->spacy>=2.0.18->fastai) (3.7.0)\n",
            "Requirement already satisfied: typing-extensions>=3.6.4 in /usr/local/lib/python3.7/dist-packages (from importlib-metadata>=0.20->catalogue<1.1.0,>=0.0.7->spacy>=2.0.18->fastai) (3.10.0.2)\n",
            "Requirement already satisfied: idna<3,>=2.5 in /usr/local/lib/python3.7/dist-packages (from requests->fastai) (2.10)\n",
            "Requirement already satisfied: certifi>=2017.4.17 in /usr/local/lib/python3.7/dist-packages (from requests->fastai) (2021.10.8)\n",
            "Requirement already satisfied: chardet<4,>=3.0.2 in /usr/local/lib/python3.7/dist-packages (from requests->fastai) (3.0.4)\n",
            "Requirement already satisfied: urllib3!=1.25.0,!=1.25.1,<1.26,>=1.21.1 in /usr/local/lib/python3.7/dist-packages (from requests->fastai) (1.24.3)\n",
            "Requirement already satisfied: python-dateutil>=2.1 in /usr/local/lib/python3.7/dist-packages (from matplotlib->fastai) (2.8.2)\n",
            "Requirement already satisfied: pyparsing!=2.0.4,!=2.1.2,!=2.1.6,>=2.0.1 in /usr/local/lib/python3.7/dist-packages (from matplotlib->fastai) (3.0.7)\n",
            "Requirement already satisfied: cycler>=0.10 in /usr/local/lib/python3.7/dist-packages (from matplotlib->fastai) (0.11.0)\n",
            "Requirement already satisfied: kiwisolver>=1.0.1 in /usr/local/lib/python3.7/dist-packages (from matplotlib->fastai) (1.4.0)\n",
            "Requirement already satisfied: six>=1.5 in /usr/local/lib/python3.7/dist-packages (from python-dateutil>=2.1->matplotlib->fastai) (1.15.0)\n",
            "Requirement already satisfied: pytz>=2017.3 in /usr/local/lib/python3.7/dist-packages (from pandas->fastai) (2018.9)\n"
          ]
        }
      ]
    },
    {
      "cell_type": "code",
      "metadata": {
        "id": "316Xs5WBv0kg"
      },
      "source": [
        "# load relevant libraries\n",
        "from fastai import * \n",
        "import pandas as pd\n",
        "import numpy as np\n",
        "from functools import partial\n",
        "import io\n",
        "import os\n",
        "from fastai.text import *"
      ],
      "execution_count": null,
      "outputs": []
    },
    {
      "cell_type": "code",
      "metadata": {
        "id": "MfoKX8tKAU4Q",
        "colab": {
          "base_uri": "https://localhost:8080/"
        },
        "outputId": "37121120-9370-49a0-e250-371331d8a06c"
      },
      "source": [
        "# download SPAM data\n",
        "!wget https://archive.ics.uci.edu/ml/machine-learning-databases/00228/smsspamcollection.zip\n",
        "!unzip smsspamcollection.zip"
      ],
      "execution_count": null,
      "outputs": [
        {
          "output_type": "stream",
          "name": "stdout",
          "text": [
            "--2022-03-22 23:59:25--  https://archive.ics.uci.edu/ml/machine-learning-databases/00228/smsspamcollection.zip\n",
            "Resolving archive.ics.uci.edu (archive.ics.uci.edu)... 128.195.10.252\n",
            "Connecting to archive.ics.uci.edu (archive.ics.uci.edu)|128.195.10.252|:443... connected.\n",
            "HTTP request sent, awaiting response... 200 OK\n",
            "Length: 203415 (199K) [application/x-httpd-php]\n",
            "Saving to: ‘smsspamcollection.zip’\n",
            "\n",
            "smsspamcollection.z 100%[===================>] 198.65K   384KB/s    in 0.5s    \n",
            "\n",
            "2022-03-22 23:59:26 (384 KB/s) - ‘smsspamcollection.zip’ saved [203415/203415]\n",
            "\n",
            "Archive:  smsspamcollection.zip\n",
            "replace SMSSpamCollection? [y]es, [n]o, [A]ll, [N]one, [r]ename: y\n",
            "  inflating: SMSSpamCollection       \n",
            "  inflating: readme                  \n"
          ]
        }
      ]
    },
    {
      "cell_type": "code",
      "metadata": {
        "id": "RKPhLwlhAbv-",
        "colab": {
          "base_uri": "https://localhost:8080/",
          "height": 206
        },
        "outputId": "5351e13e-0406-4a53-a392-c7ba1ca1c6e9"
      },
      "source": [
        "# set up data and verify\n",
        "df1 = pd.read_csv('SMSSpamCollection', sep='\\t',  header=None, names=['target', 'text'])\n",
        "df1.head()"
      ],
      "execution_count": null,
      "outputs": [
        {
          "output_type": "execute_result",
          "data": {
            "text/plain": [
              "  target                                               text\n",
              "0    ham  Go until jurong point, crazy.. Available only ...\n",
              "1    ham                      Ok lar... Joking wif u oni...\n",
              "2   spam  Free entry in 2 a wkly comp to win FA Cup fina...\n",
              "3    ham  U dun say so early hor... U c already then say...\n",
              "4    ham  Nah I don't think he goes to usf, he lives aro..."
            ],
            "text/html": [
              "\n",
              "  <div id=\"df-9f04341f-7a7c-419f-a40c-9ea075ed5308\">\n",
              "    <div class=\"colab-df-container\">\n",
              "      <div>\n",
              "<style scoped>\n",
              "    .dataframe tbody tr th:only-of-type {\n",
              "        vertical-align: middle;\n",
              "    }\n",
              "\n",
              "    .dataframe tbody tr th {\n",
              "        vertical-align: top;\n",
              "    }\n",
              "\n",
              "    .dataframe thead th {\n",
              "        text-align: right;\n",
              "    }\n",
              "</style>\n",
              "<table border=\"1\" class=\"dataframe\">\n",
              "  <thead>\n",
              "    <tr style=\"text-align: right;\">\n",
              "      <th></th>\n",
              "      <th>target</th>\n",
              "      <th>text</th>\n",
              "    </tr>\n",
              "  </thead>\n",
              "  <tbody>\n",
              "    <tr>\n",
              "      <th>0</th>\n",
              "      <td>ham</td>\n",
              "      <td>Go until jurong point, crazy.. Available only ...</td>\n",
              "    </tr>\n",
              "    <tr>\n",
              "      <th>1</th>\n",
              "      <td>ham</td>\n",
              "      <td>Ok lar... Joking wif u oni...</td>\n",
              "    </tr>\n",
              "    <tr>\n",
              "      <th>2</th>\n",
              "      <td>spam</td>\n",
              "      <td>Free entry in 2 a wkly comp to win FA Cup fina...</td>\n",
              "    </tr>\n",
              "    <tr>\n",
              "      <th>3</th>\n",
              "      <td>ham</td>\n",
              "      <td>U dun say so early hor... U c already then say...</td>\n",
              "    </tr>\n",
              "    <tr>\n",
              "      <th>4</th>\n",
              "      <td>ham</td>\n",
              "      <td>Nah I don't think he goes to usf, he lives aro...</td>\n",
              "    </tr>\n",
              "  </tbody>\n",
              "</table>\n",
              "</div>\n",
              "      <button class=\"colab-df-convert\" onclick=\"convertToInteractive('df-9f04341f-7a7c-419f-a40c-9ea075ed5308')\"\n",
              "              title=\"Convert this dataframe to an interactive table.\"\n",
              "              style=\"display:none;\">\n",
              "        \n",
              "  <svg xmlns=\"http://www.w3.org/2000/svg\" height=\"24px\"viewBox=\"0 0 24 24\"\n",
              "       width=\"24px\">\n",
              "    <path d=\"M0 0h24v24H0V0z\" fill=\"none\"/>\n",
              "    <path d=\"M18.56 5.44l.94 2.06.94-2.06 2.06-.94-2.06-.94-.94-2.06-.94 2.06-2.06.94zm-11 1L8.5 8.5l.94-2.06 2.06-.94-2.06-.94L8.5 2.5l-.94 2.06-2.06.94zm10 10l.94 2.06.94-2.06 2.06-.94-2.06-.94-.94-2.06-.94 2.06-2.06.94z\"/><path d=\"M17.41 7.96l-1.37-1.37c-.4-.4-.92-.59-1.43-.59-.52 0-1.04.2-1.43.59L10.3 9.45l-7.72 7.72c-.78.78-.78 2.05 0 2.83L4 21.41c.39.39.9.59 1.41.59.51 0 1.02-.2 1.41-.59l7.78-7.78 2.81-2.81c.8-.78.8-2.07 0-2.86zM5.41 20L4 18.59l7.72-7.72 1.47 1.35L5.41 20z\"/>\n",
              "  </svg>\n",
              "      </button>\n",
              "      \n",
              "  <style>\n",
              "    .colab-df-container {\n",
              "      display:flex;\n",
              "      flex-wrap:wrap;\n",
              "      gap: 12px;\n",
              "    }\n",
              "\n",
              "    .colab-df-convert {\n",
              "      background-color: #E8F0FE;\n",
              "      border: none;\n",
              "      border-radius: 50%;\n",
              "      cursor: pointer;\n",
              "      display: none;\n",
              "      fill: #1967D2;\n",
              "      height: 32px;\n",
              "      padding: 0 0 0 0;\n",
              "      width: 32px;\n",
              "    }\n",
              "\n",
              "    .colab-df-convert:hover {\n",
              "      background-color: #E2EBFA;\n",
              "      box-shadow: 0px 1px 2px rgba(60, 64, 67, 0.3), 0px 1px 3px 1px rgba(60, 64, 67, 0.15);\n",
              "      fill: #174EA6;\n",
              "    }\n",
              "\n",
              "    [theme=dark] .colab-df-convert {\n",
              "      background-color: #3B4455;\n",
              "      fill: #D2E3FC;\n",
              "    }\n",
              "\n",
              "    [theme=dark] .colab-df-convert:hover {\n",
              "      background-color: #434B5C;\n",
              "      box-shadow: 0px 1px 3px 1px rgba(0, 0, 0, 0.15);\n",
              "      filter: drop-shadow(0px 1px 2px rgba(0, 0, 0, 0.3));\n",
              "      fill: #FFFFFF;\n",
              "    }\n",
              "  </style>\n",
              "\n",
              "      <script>\n",
              "        const buttonEl =\n",
              "          document.querySelector('#df-9f04341f-7a7c-419f-a40c-9ea075ed5308 button.colab-df-convert');\n",
              "        buttonEl.style.display =\n",
              "          google.colab.kernel.accessAllowed ? 'block' : 'none';\n",
              "\n",
              "        async function convertToInteractive(key) {\n",
              "          const element = document.querySelector('#df-9f04341f-7a7c-419f-a40c-9ea075ed5308');\n",
              "          const dataTable =\n",
              "            await google.colab.kernel.invokeFunction('convertToInteractive',\n",
              "                                                     [key], {});\n",
              "          if (!dataTable) return;\n",
              "\n",
              "          const docLinkHtml = 'Like what you see? Visit the ' +\n",
              "            '<a target=\"_blank\" href=https://colab.research.google.com/notebooks/data_table.ipynb>data table notebook</a>'\n",
              "            + ' to learn more about interactive tables.';\n",
              "          element.innerHTML = '';\n",
              "          dataTable['output_type'] = 'display_data';\n",
              "          await google.colab.output.renderOutput(dataTable, element);\n",
              "          const docLink = document.createElement('div');\n",
              "          docLink.innerHTML = docLinkHtml;\n",
              "          element.appendChild(docLink);\n",
              "        }\n",
              "      </script>\n",
              "    </div>\n",
              "  </div>\n",
              "  "
            ]
          },
          "metadata": {},
          "execution_count": 49
        }
      ]
    },
    {
      "cell_type": "code",
      "metadata": {
        "id": "rorC2T1yAfWY",
        "colab": {
          "base_uri": "https://localhost:8080/"
        },
        "outputId": "87676442-1ea9-4f8c-efd7-0dd480017129"
      },
      "source": [
        "# check distribution\n",
        "df1['target'].value_counts()"
      ],
      "execution_count": null,
      "outputs": [
        {
          "output_type": "execute_result",
          "data": {
            "text/plain": [
              "ham     4825\n",
              "spam     747\n",
              "Name: target, dtype: int64"
            ]
          },
          "metadata": {},
          "execution_count": 50
        }
      ]
    },
    {
      "cell_type": "markdown",
      "metadata": {
        "id": "snNazefHQ3yo"
      },
      "source": [
        "Split the data into training and validation datasets."
      ]
    },
    {
      "cell_type": "code",
      "metadata": {
        "id": "i4WuVTDhArhc"
      },
      "source": [
        "# split the data and check dimensions\n",
        "\n",
        "from sklearn.model_selection import train_test_split\n",
        "\n",
        "# split data into training and validation set\n",
        "df_trn, df_val = train_test_split(df1, stratify = df1['target'], test_size = 0.3, random_state = 999)"
      ],
      "execution_count": null,
      "outputs": []
    },
    {
      "cell_type": "code",
      "metadata": {
        "colab": {
          "base_uri": "https://localhost:8080/"
        },
        "id": "uyCkDbTRAyxk",
        "outputId": "81813e21-cf1d-40c6-dc4f-32096ca9d65e"
      },
      "source": [
        "df_trn.shape, df_val.shape"
      ],
      "execution_count": null,
      "outputs": [
        {
          "output_type": "execute_result",
          "data": {
            "text/plain": [
              "((3900, 2), (1672, 2))"
            ]
          },
          "metadata": {},
          "execution_count": 52
        }
      ]
    },
    {
      "cell_type": "code",
      "metadata": {
        "id": "S6yWJklsBdPp",
        "colab": {
          "base_uri": "https://localhost:8080/",
          "height": 89
        },
        "outputId": "673eaa8b-f282-4d6d-a69a-cc3beb405638"
      },
      "source": [
        "# create pretrained language model data\n",
        "data_lm = TextLMDataBunch.from_df(train_df = df_trn, valid_df = df_val, path = \"\")\n",
        "lang_mod = language_model_learner(data_lm,  arch = AWD_LSTM, pretrained = True, drop_mult=1.)"
      ],
      "execution_count": null,
      "outputs": [
        {
          "output_type": "display_data",
          "data": {
            "text/plain": [
              "<IPython.core.display.HTML object>"
            ],
            "text/html": [
              "\n",
              "<style>\n",
              "    /* Turns off some styling */\n",
              "    progress {\n",
              "        /* gets rid of default border in Firefox and Opera. */\n",
              "        border: none;\n",
              "        /* Needs to be in here for Safari polyfill so background images work as expected. */\n",
              "        background-size: auto;\n",
              "    }\n",
              "    .progress-bar-interrupted, .progress-bar-interrupted::-webkit-progress-bar {\n",
              "        background: #F44336;\n",
              "    }\n",
              "</style>\n"
            ]
          },
          "metadata": {}
        },
        {
          "output_type": "display_data",
          "data": {
            "text/plain": [
              "<IPython.core.display.HTML object>"
            ],
            "text/html": [
              ""
            ]
          },
          "metadata": {}
        },
        {
          "output_type": "stream",
          "name": "stderr",
          "text": [
            "/usr/local/lib/python3.7/dist-packages/fastai/core.py:302: VisibleDeprecationWarning: Creating an ndarray from ragged nested sequences (which is a list-or-tuple of lists-or-tuples-or ndarrays with different lengths or shapes) is deprecated. If you meant to do this, you must specify 'dtype=object' when creating the ndarray.\n",
            "  return np.array(a, dtype=dtype, **kwargs)\n"
          ]
        },
        {
          "output_type": "display_data",
          "data": {
            "text/plain": [
              "<IPython.core.display.HTML object>"
            ],
            "text/html": [
              "\n",
              "<style>\n",
              "    /* Turns off some styling */\n",
              "    progress {\n",
              "        /* gets rid of default border in Firefox and Opera. */\n",
              "        border: none;\n",
              "        /* Needs to be in here for Safari polyfill so background images work as expected. */\n",
              "        background-size: auto;\n",
              "    }\n",
              "    .progress-bar-interrupted, .progress-bar-interrupted::-webkit-progress-bar {\n",
              "        background: #F44336;\n",
              "    }\n",
              "</style>\n"
            ]
          },
          "metadata": {}
        },
        {
          "output_type": "display_data",
          "data": {
            "text/plain": [
              "<IPython.core.display.HTML object>"
            ],
            "text/html": [
              ""
            ]
          },
          "metadata": {}
        },
        {
          "output_type": "stream",
          "name": "stdout",
          "text": [
            "Downloading https://s3.amazonaws.com/fast-ai-modelzoo/wt103-fwd.tgz\n"
          ]
        },
        {
          "output_type": "display_data",
          "data": {
            "text/plain": [
              "<IPython.core.display.HTML object>"
            ],
            "text/html": [
              "\n",
              "<style>\n",
              "    /* Turns off some styling */\n",
              "    progress {\n",
              "        /* gets rid of default border in Firefox and Opera. */\n",
              "        border: none;\n",
              "        /* Needs to be in here for Safari polyfill so background images work as expected. */\n",
              "        background-size: auto;\n",
              "    }\n",
              "    .progress-bar-interrupted, .progress-bar-interrupted::-webkit-progress-bar {\n",
              "        background: #F44336;\n",
              "    }\n",
              "</style>\n"
            ]
          },
          "metadata": {}
        },
        {
          "output_type": "display_data",
          "data": {
            "text/plain": [
              "<IPython.core.display.HTML object>"
            ],
            "text/html": [
              ""
            ]
          },
          "metadata": {}
        }
      ]
    },
    {
      "cell_type": "markdown",
      "metadata": {
        "id": "lT_aVqCRB8DJ"
      },
      "source": [
        "### Testing the language model\n"
      ]
    },
    {
      "cell_type": "code",
      "metadata": {
        "id": "PlZgAMGbCZXY",
        "colab": {
          "base_uri": "https://localhost:8080/"
        },
        "outputId": "80ec53f8-55b1-44c3-8a8e-7405cd9f7e16"
      },
      "source": [
        "for i in range(5):\n",
        "  print(lang_mod.predict(\"The problem usually starts when\", n_words=10))"
      ],
      "execution_count": null,
      "outputs": [
        {
          "output_type": "stream",
          "name": "stdout",
          "text": [
            "The problem usually starts when a box or cell is broken up or is dropped\n",
            "The problem usually starts when the local community is in a mental situation , and\n",
            "The problem usually starts when the American Dad Out of Trouble\n",
            "The problem usually starts when the three takes are only two or three hours of\n",
            "The problem usually starts when the \" Big Ten \" is released .\n"
          ]
        }
      ]
    },
    {
      "cell_type": "markdown",
      "metadata": {
        "id": "8-9pK9cTCmFP"
      },
      "source": [
        "Each time we excecute the `predict`, we get a different random sentence, completed with the number of choosen words (`n_words`)."
      ]
    },
    {
      "cell_type": "code",
      "source": [
        "for i in range(5):\n",
        "  print(lang_mod.predict(\"It was then that\", n_words=10))"
      ],
      "metadata": {
        "colab": {
          "base_uri": "https://localhost:8080/"
        },
        "id": "tV7eaIuitxhg",
        "outputId": "3edcccad-7641-4e34-af7e-c994be11d2ac"
      },
      "execution_count": null,
      "outputs": [
        {
          "output_type": "stream",
          "name": "stdout",
          "text": [
            "It was then that England and Wales were invited to the\n",
            "It was then that Reg Taylor , the British Secretary\n",
            "It was then that the UK 's first British Foreign\n",
            "It was then that Ben Day , one of Ben\n",
            "It was then that British Foreign Office e ' Wales\n"
          ]
        }
      ]
    },
    {
      "cell_type": "markdown",
      "metadata": {
        "id": "Q8-HUwNYCqSO"
      },
      "source": [
        "### Fine-tuning the language model\n",
        "The language model that we have \"loaded\" is great for generating wikipedia-like sentances, but here we're more interested in generating data like our email dataset. "
      ]
    },
    {
      "cell_type": "code",
      "metadata": {
        "id": "2Z6lG13vRnbo",
        "colab": {
          "base_uri": "https://localhost:8080/",
          "height": 554
        },
        "outputId": "ff87eb63-09ff-4d71-88cb-97ae409a3008"
      },
      "source": [
        "# fine-tune language model data\n",
        "lang_mod.fit_one_cycle(4, max_lr= 5e-02)\n",
        "lang_mod.freeze_to(-1)\n",
        "lang_mod.fit_one_cycle(3, slice(1e-2/(2.6**4), 1e-2))\n",
        "lang_mod.freeze_to(-2)\n",
        "lang_mod.fit_one_cycle(3, slice(3e-3/(2.6**4), 1e-3))\n",
        "lang_mod.unfreeze()\n",
        "lang_mod.fit_one_cycle(3, slice(3e-3/(2.6**4), 1e-3))\n",
        "\n",
        "# save language model\n",
        "lang_mod.save_encoder('my_awsome_encoder')"
      ],
      "execution_count": null,
      "outputs": [
        {
          "output_type": "display_data",
          "data": {
            "text/plain": [
              "<IPython.core.display.HTML object>"
            ],
            "text/html": [
              "\n",
              "<style>\n",
              "    /* Turns off some styling */\n",
              "    progress {\n",
              "        /* gets rid of default border in Firefox and Opera. */\n",
              "        border: none;\n",
              "        /* Needs to be in here for Safari polyfill so background images work as expected. */\n",
              "        background-size: auto;\n",
              "    }\n",
              "    .progress-bar-interrupted, .progress-bar-interrupted::-webkit-progress-bar {\n",
              "        background: #F44336;\n",
              "    }\n",
              "</style>\n"
            ]
          },
          "metadata": {}
        },
        {
          "output_type": "display_data",
          "data": {
            "text/plain": [
              "<IPython.core.display.HTML object>"
            ],
            "text/html": [
              "<table border=\"1\" class=\"dataframe\">\n",
              "  <thead>\n",
              "    <tr style=\"text-align: left;\">\n",
              "      <th>epoch</th>\n",
              "      <th>train_loss</th>\n",
              "      <th>valid_loss</th>\n",
              "      <th>accuracy</th>\n",
              "      <th>time</th>\n",
              "    </tr>\n",
              "  </thead>\n",
              "  <tbody>\n",
              "    <tr>\n",
              "      <td>0</td>\n",
              "      <td>5.558297</td>\n",
              "      <td>3.817639</td>\n",
              "      <td>0.271429</td>\n",
              "      <td>00:06</td>\n",
              "    </tr>\n",
              "    <tr>\n",
              "      <td>1</td>\n",
              "      <td>4.823805</td>\n",
              "      <td>3.813969</td>\n",
              "      <td>0.271429</td>\n",
              "      <td>00:06</td>\n",
              "    </tr>\n",
              "    <tr>\n",
              "      <td>2</td>\n",
              "      <td>4.369751</td>\n",
              "      <td>3.771554</td>\n",
              "      <td>0.328571</td>\n",
              "      <td>00:06</td>\n",
              "    </tr>\n",
              "    <tr>\n",
              "      <td>3</td>\n",
              "      <td>4.049585</td>\n",
              "      <td>3.773782</td>\n",
              "      <td>0.285714</td>\n",
              "      <td>00:06</td>\n",
              "    </tr>\n",
              "  </tbody>\n",
              "</table>"
            ]
          },
          "metadata": {}
        },
        {
          "output_type": "display_data",
          "data": {
            "text/plain": [
              "<IPython.core.display.HTML object>"
            ],
            "text/html": [
              "\n",
              "<style>\n",
              "    /* Turns off some styling */\n",
              "    progress {\n",
              "        /* gets rid of default border in Firefox and Opera. */\n",
              "        border: none;\n",
              "        /* Needs to be in here for Safari polyfill so background images work as expected. */\n",
              "        background-size: auto;\n",
              "    }\n",
              "    .progress-bar-interrupted, .progress-bar-interrupted::-webkit-progress-bar {\n",
              "        background: #F44336;\n",
              "    }\n",
              "</style>\n"
            ]
          },
          "metadata": {}
        },
        {
          "output_type": "display_data",
          "data": {
            "text/plain": [
              "<IPython.core.display.HTML object>"
            ],
            "text/html": [
              "<table border=\"1\" class=\"dataframe\">\n",
              "  <thead>\n",
              "    <tr style=\"text-align: left;\">\n",
              "      <th>epoch</th>\n",
              "      <th>train_loss</th>\n",
              "      <th>valid_loss</th>\n",
              "      <th>accuracy</th>\n",
              "      <th>time</th>\n",
              "    </tr>\n",
              "  </thead>\n",
              "  <tbody>\n",
              "    <tr>\n",
              "      <td>0</td>\n",
              "      <td>3.568745</td>\n",
              "      <td>3.766156</td>\n",
              "      <td>0.328571</td>\n",
              "      <td>00:05</td>\n",
              "    </tr>\n",
              "    <tr>\n",
              "      <td>1</td>\n",
              "      <td>3.541619</td>\n",
              "      <td>3.735488</td>\n",
              "      <td>0.328571</td>\n",
              "      <td>00:06</td>\n",
              "    </tr>\n",
              "    <tr>\n",
              "      <td>2</td>\n",
              "      <td>3.477848</td>\n",
              "      <td>3.701890</td>\n",
              "      <td>0.328571</td>\n",
              "      <td>00:06</td>\n",
              "    </tr>\n",
              "  </tbody>\n",
              "</table>"
            ]
          },
          "metadata": {}
        },
        {
          "output_type": "display_data",
          "data": {
            "text/plain": [
              "<IPython.core.display.HTML object>"
            ],
            "text/html": [
              "\n",
              "<style>\n",
              "    /* Turns off some styling */\n",
              "    progress {\n",
              "        /* gets rid of default border in Firefox and Opera. */\n",
              "        border: none;\n",
              "        /* Needs to be in here for Safari polyfill so background images work as expected. */\n",
              "        background-size: auto;\n",
              "    }\n",
              "    .progress-bar-interrupted, .progress-bar-interrupted::-webkit-progress-bar {\n",
              "        background: #F44336;\n",
              "    }\n",
              "</style>\n"
            ]
          },
          "metadata": {}
        },
        {
          "output_type": "display_data",
          "data": {
            "text/plain": [
              "<IPython.core.display.HTML object>"
            ],
            "text/html": [
              "<table border=\"1\" class=\"dataframe\">\n",
              "  <thead>\n",
              "    <tr style=\"text-align: left;\">\n",
              "      <th>epoch</th>\n",
              "      <th>train_loss</th>\n",
              "      <th>valid_loss</th>\n",
              "      <th>accuracy</th>\n",
              "      <th>time</th>\n",
              "    </tr>\n",
              "  </thead>\n",
              "  <tbody>\n",
              "    <tr>\n",
              "      <td>0</td>\n",
              "      <td>3.381458</td>\n",
              "      <td>3.732709</td>\n",
              "      <td>0.328571</td>\n",
              "      <td>00:06</td>\n",
              "    </tr>\n",
              "    <tr>\n",
              "      <td>1</td>\n",
              "      <td>3.369162</td>\n",
              "      <td>3.730919</td>\n",
              "      <td>0.285714</td>\n",
              "      <td>00:06</td>\n",
              "    </tr>\n",
              "    <tr>\n",
              "      <td>2</td>\n",
              "      <td>3.357166</td>\n",
              "      <td>3.728911</td>\n",
              "      <td>0.285714</td>\n",
              "      <td>00:06</td>\n",
              "    </tr>\n",
              "  </tbody>\n",
              "</table>"
            ]
          },
          "metadata": {}
        },
        {
          "output_type": "display_data",
          "data": {
            "text/plain": [
              "<IPython.core.display.HTML object>"
            ],
            "text/html": [
              "\n",
              "<style>\n",
              "    /* Turns off some styling */\n",
              "    progress {\n",
              "        /* gets rid of default border in Firefox and Opera. */\n",
              "        border: none;\n",
              "        /* Needs to be in here for Safari polyfill so background images work as expected. */\n",
              "        background-size: auto;\n",
              "    }\n",
              "    .progress-bar-interrupted, .progress-bar-interrupted::-webkit-progress-bar {\n",
              "        background: #F44336;\n",
              "    }\n",
              "</style>\n"
            ]
          },
          "metadata": {}
        },
        {
          "output_type": "display_data",
          "data": {
            "text/plain": [
              "<IPython.core.display.HTML object>"
            ],
            "text/html": [
              "<table border=\"1\" class=\"dataframe\">\n",
              "  <thead>\n",
              "    <tr style=\"text-align: left;\">\n",
              "      <th>epoch</th>\n",
              "      <th>train_loss</th>\n",
              "      <th>valid_loss</th>\n",
              "      <th>accuracy</th>\n",
              "      <th>time</th>\n",
              "    </tr>\n",
              "  </thead>\n",
              "  <tbody>\n",
              "    <tr>\n",
              "      <td>0</td>\n",
              "      <td>3.324349</td>\n",
              "      <td>3.744925</td>\n",
              "      <td>0.285714</td>\n",
              "      <td>00:08</td>\n",
              "    </tr>\n",
              "    <tr>\n",
              "      <td>1</td>\n",
              "      <td>3.287861</td>\n",
              "      <td>3.716099</td>\n",
              "      <td>0.271429</td>\n",
              "      <td>00:08</td>\n",
              "    </tr>\n",
              "    <tr>\n",
              "      <td>2</td>\n",
              "      <td>3.255067</td>\n",
              "      <td>3.717035</td>\n",
              "      <td>0.271429</td>\n",
              "      <td>00:08</td>\n",
              "    </tr>\n",
              "  </tbody>\n",
              "</table>"
            ]
          },
          "metadata": {}
        }
      ]
    },
    {
      "cell_type": "markdown",
      "metadata": {
        "id": "KT-Y6pB1SrGg"
      },
      "source": [
        "### Classification model\n",
        "Now we can train a classification model that will identify spam and non-spam messages. Since we used a fastai language model, it will be easier to just continue working with the fastai library."
      ]
    },
    {
      "cell_type": "code",
      "metadata": {
        "id": "MIvfaeOfTDZV",
        "colab": {
          "base_uri": "https://localhost:8080/",
          "height": 124
        },
        "outputId": "0bf9fad5-5af9-4407-bc3f-c2acdb452feb"
      },
      "source": [
        "# Classifier model data\n",
        "data_clas = TextClasDataBunch.from_df(path = \"\", train_df = df_trn,  valid_df = df_val, vocab=data_lm.train_ds.vocab, bs=32)"
      ],
      "execution_count": null,
      "outputs": [
        {
          "output_type": "display_data",
          "data": {
            "text/plain": [
              "<IPython.core.display.HTML object>"
            ],
            "text/html": [
              "\n",
              "<style>\n",
              "    /* Turns off some styling */\n",
              "    progress {\n",
              "        /* gets rid of default border in Firefox and Opera. */\n",
              "        border: none;\n",
              "        /* Needs to be in here for Safari polyfill so background images work as expected. */\n",
              "        background-size: auto;\n",
              "    }\n",
              "    .progress-bar-interrupted, .progress-bar-interrupted::-webkit-progress-bar {\n",
              "        background: #F44336;\n",
              "    }\n",
              "</style>\n"
            ]
          },
          "metadata": {}
        },
        {
          "output_type": "display_data",
          "data": {
            "text/plain": [
              "<IPython.core.display.HTML object>"
            ],
            "text/html": [
              ""
            ]
          },
          "metadata": {}
        },
        {
          "output_type": "stream",
          "name": "stderr",
          "text": [
            "/usr/local/lib/python3.7/dist-packages/fastai/core.py:302: VisibleDeprecationWarning: Creating an ndarray from ragged nested sequences (which is a list-or-tuple of lists-or-tuples-or ndarrays with different lengths or shapes) is deprecated. If you meant to do this, you must specify 'dtype=object' when creating the ndarray.\n",
            "  return np.array(a, dtype=dtype, **kwargs)\n"
          ]
        },
        {
          "output_type": "display_data",
          "data": {
            "text/plain": [
              "<IPython.core.display.HTML object>"
            ],
            "text/html": [
              "\n",
              "<style>\n",
              "    /* Turns off some styling */\n",
              "    progress {\n",
              "        /* gets rid of default border in Firefox and Opera. */\n",
              "        border: none;\n",
              "        /* Needs to be in here for Safari polyfill so background images work as expected. */\n",
              "        background-size: auto;\n",
              "    }\n",
              "    .progress-bar-interrupted, .progress-bar-interrupted::-webkit-progress-bar {\n",
              "        background: #F44336;\n",
              "    }\n",
              "</style>\n"
            ]
          },
          "metadata": {}
        },
        {
          "output_type": "display_data",
          "data": {
            "text/plain": [
              "<IPython.core.display.HTML object>"
            ],
            "text/html": [
              ""
            ]
          },
          "metadata": {}
        },
        {
          "output_type": "stream",
          "name": "stderr",
          "text": [
            "/usr/local/lib/python3.7/dist-packages/fastai/text/data.py:124: VisibleDeprecationWarning: Creating an ndarray from ragged nested sequences (which is a list-or-tuple of lists-or-tuples-or ndarrays with different lengths or shapes) is deprecated. If you meant to do this, you must specify 'dtype=object' when creating the ndarray.\n",
            "  sort_idx = np.concatenate(np.random.permutation(ck_idx[1:])) if len(ck_idx) > 1 else np.array([],dtype=np.int)\n",
            "<string>:6: VisibleDeprecationWarning: Creating an ndarray from ragged nested sequences (which is a list-or-tuple of lists-or-tuples-or ndarrays with different lengths or shapes) is deprecated. If you meant to do this, you must specify 'dtype=object' when creating the ndarray.\n"
          ]
        }
      ]
    },
    {
      "cell_type": "code",
      "metadata": {
        "id": "Kc2fiXTCTjHh",
        "colab": {
          "base_uri": "https://localhost:8080/",
          "height": 435
        },
        "outputId": "05ff1aa9-75db-49b6-c28e-cf864178ecde"
      },
      "source": [
        "data_clas.show_batch()"
      ],
      "execution_count": null,
      "outputs": [
        {
          "output_type": "stream",
          "name": "stderr",
          "text": [
            "/usr/local/lib/python3.7/dist-packages/fastai/text/data.py:124: VisibleDeprecationWarning: Creating an ndarray from ragged nested sequences (which is a list-or-tuple of lists-or-tuples-or ndarrays with different lengths or shapes) is deprecated. If you meant to do this, you must specify 'dtype=object' when creating the ndarray.\n",
            "  sort_idx = np.concatenate(np.random.permutation(ck_idx[1:])) if len(ck_idx) > 1 else np.array([],dtype=np.int)\n",
            "<string>:6: VisibleDeprecationWarning: Creating an ndarray from ragged nested sequences (which is a list-or-tuple of lists-or-tuples-or ndarrays with different lengths or shapes) is deprecated. If you meant to do this, you must specify 'dtype=object' when creating the ndarray.\n"
          ]
        },
        {
          "output_type": "display_data",
          "data": {
            "text/plain": [
              "<IPython.core.display.HTML object>"
            ],
            "text/html": [
              "<table border=\"1\" class=\"dataframe\">\n",
              "  <thead>\n",
              "    <tr style=\"text-align: right;\">\n",
              "      <th>text</th>\n",
              "      <th>target</th>\n",
              "    </tr>\n",
              "  </thead>\n",
              "  <tbody>\n",
              "    <tr>\n",
              "      <td>xxbos xxmaj the last thing i ever wanted to do was hurt you . xxmaj and i did n't think it would have . xxmaj you 'd laugh , be embarassed , delete the xxunk and keep going . xxmaj but as far as i knew , it was n't even up . xxmaj the fact that you even felt like i would do it to hurt you shows you</td>\n",
              "      <td>ham</td>\n",
              "    </tr>\n",
              "    <tr>\n",
              "      <td>xxbos no , i * did n't * mean to post it . i wrote it , and like so many other times i 've xxunk stuff to you , i let it sit there . it xxup was what i was feeling at the time . i was angry . xxmaj before i left , i hit send , then stop . xxmaj it was n't there . i</td>\n",
              "      <td>ham</td>\n",
              "    </tr>\n",
              "    <tr>\n",
              "      <td>xxbos xxmaj storming msg : xxmaj wen u lift d phne , u say \" xxup hello \" xxmaj do u knw wt is d real meaning of xxup hello ? ? . . . xxmaj it 's d name of a girl .. ! . . . xxmaj yes .. xxmaj and u knw who is dat girl ? ? \" xxmaj margaret xxmaj hello \" xxmaj she is</td>\n",
              "      <td>ham</td>\n",
              "    </tr>\n",
              "    <tr>\n",
              "      <td>xxbos xxmaj storming msg : xxmaj wen u lift d phne , u say \" xxup hello \" xxmaj do u knw wt is d real meaning of xxup hello ? ? . . . xxmaj it 's d name of a girl .. ! . . . xxmaj yes .. xxmaj and u knw who is dat girl ? ? \" xxmaj margaret xxmaj hello \" xxmaj she is</td>\n",
              "      <td>ham</td>\n",
              "    </tr>\n",
              "    <tr>\n",
              "      <td>xxbos xxmaj and that is the problem . xxmaj you walk around in \" xxunk \" xxunk to what is going on around you . i say the same things constantly and they go in one xxunk and out the other while you go off doing whatever you want to do . xxmaj it 's not that you do n't know why i 'm upset -- it 's that you</td>\n",
              "      <td>ham</td>\n",
              "    </tr>\n",
              "  </tbody>\n",
              "</table>"
            ]
          },
          "metadata": {}
        }
      ]
    },
    {
      "cell_type": "code",
      "metadata": {
        "id": "6sjwotSITjHi"
      },
      "source": [
        "# create the classifier\n",
        "learn_classifier = text_classifier_learner(data_clas, drop_mult=0.7, arch = AWD_LSTM)"
      ],
      "execution_count": null,
      "outputs": []
    },
    {
      "cell_type": "code",
      "metadata": {
        "id": "sfzqId9jTjHi",
        "colab": {
          "base_uri": "https://localhost:8080/"
        },
        "outputId": "427b74f1-1bee-4dc5-f09b-90878da79dee"
      },
      "source": [
        "# load language model\n",
        "learn_classifier.load_encoder('my_awsome_encoder')"
      ],
      "execution_count": null,
      "outputs": [
        {
          "output_type": "execute_result",
          "data": {
            "text/plain": [
              "RNNLearner(data=TextClasDataBunch;\n",
              "\n",
              "Train: LabelList (3900 items)\n",
              "x: TextList\n",
              "xxbos i liked your new house,xxbos xxmaj xxunk i 'm walking in xxunk now ü faster come down ... xxmaj me very hungry ...,xxbos xxmaj wan2 win a meet+greet with xxmaj westlife 4 u or a m8 ? xxmaj they are currently on what tour ? 1)unbreakable , 2)untamed , 3)unkempt . xxmaj text 1,2 or 3 to 83049 . xxmaj cost 50p + std text,xxbos xxmaj otherwise had part time job na - tuition ..,xxbos xxmaj wait , do you know if xxunk in town ? i bet she does hella drugs !\n",
              "y: CategoryList\n",
              "ham,ham,spam,ham,ham\n",
              "Path: .;\n",
              "\n",
              "Valid: LabelList (1672 items)\n",
              "x: TextList\n",
              "xxbos xxmaj not a lot has happened here . xxmaj feels very xxunk . xxmaj xxunk is at her xxunk and xxunk is working lots . xxmaj just me and xxunk in at the mo . xxmaj how have you been ?,xxbos xxmaj the current xxunk bid is xxunk . xxmaj to xxunk this auction send xxup out . xxmaj customer xxmaj care : xxunk,xxbos xxmaj are you free xxunk i call now ?,xxbos xxmaj cold . xxmaj do nt be sad dear,xxbos xxmaj cool , text me when you 're xxunk\n",
              "y: CategoryList\n",
              "ham,spam,ham,ham,ham\n",
              "Path: .;\n",
              "\n",
              "Test: None, model=SequentialRNN(\n",
              "  (0): MultiBatchEncoder(\n",
              "    (module): AWD_LSTM(\n",
              "      (encoder): Embedding(3552, 400, padding_idx=1)\n",
              "      (encoder_dp): EmbeddingDropout(\n",
              "        (emb): Embedding(3552, 400, padding_idx=1)\n",
              "      )\n",
              "      (rnns): ModuleList(\n",
              "        (0): WeightDropout(\n",
              "          (module): LSTM(400, 1152, batch_first=True)\n",
              "        )\n",
              "        (1): WeightDropout(\n",
              "          (module): LSTM(1152, 1152, batch_first=True)\n",
              "        )\n",
              "        (2): WeightDropout(\n",
              "          (module): LSTM(1152, 400, batch_first=True)\n",
              "        )\n",
              "      )\n",
              "      (input_dp): RNNDropout()\n",
              "      (hidden_dps): ModuleList(\n",
              "        (0): RNNDropout()\n",
              "        (1): RNNDropout()\n",
              "        (2): RNNDropout()\n",
              "      )\n",
              "    )\n",
              "  )\n",
              "  (1): PoolingLinearClassifier(\n",
              "    (layers): Sequential(\n",
              "      (0): BatchNorm1d(1200, eps=1e-05, momentum=0.1, affine=True, track_running_stats=True)\n",
              "      (1): Dropout(p=0.27999999999999997, inplace=False)\n",
              "      (2): Linear(in_features=1200, out_features=50, bias=True)\n",
              "      (3): ReLU(inplace=True)\n",
              "      (4): BatchNorm1d(50, eps=1e-05, momentum=0.1, affine=True, track_running_stats=True)\n",
              "      (5): Dropout(p=0.1, inplace=False)\n",
              "      (6): Linear(in_features=50, out_features=2, bias=True)\n",
              "    )\n",
              "  )\n",
              "), opt_func=functools.partial(<class 'torch.optim.adam.Adam'>, betas=(0.9, 0.99)), loss_func=FlattenedLoss of CrossEntropyLoss(), metrics=[<function accuracy at 0x7f27402e5710>], true_wd=True, bn_wd=True, wd=0.01, train_bn=True, path=PosixPath('.'), model_dir='models', callback_fns=[functools.partial(<class 'fastai.basic_train.Recorder'>, add_time=True, silent=False)], callbacks=[RNNTrainer\n",
              "learn: ...\n",
              "alpha: 2.0\n",
              "beta: 1.0], layer_groups=[Sequential(\n",
              "  (0): Embedding(3552, 400, padding_idx=1)\n",
              "  (1): EmbeddingDropout(\n",
              "    (emb): Embedding(3552, 400, padding_idx=1)\n",
              "  )\n",
              "), Sequential(\n",
              "  (0): WeightDropout(\n",
              "    (module): LSTM(400, 1152, batch_first=True)\n",
              "  )\n",
              "  (1): RNNDropout()\n",
              "), Sequential(\n",
              "  (0): WeightDropout(\n",
              "    (module): LSTM(1152, 1152, batch_first=True)\n",
              "  )\n",
              "  (1): RNNDropout()\n",
              "), Sequential(\n",
              "  (0): WeightDropout(\n",
              "    (module): LSTM(1152, 400, batch_first=True)\n",
              "  )\n",
              "  (1): RNNDropout()\n",
              "), Sequential(\n",
              "  (0): PoolingLinearClassifier(\n",
              "    (layers): Sequential(\n",
              "      (0): BatchNorm1d(1200, eps=1e-05, momentum=0.1, affine=True, track_running_stats=True)\n",
              "      (1): Dropout(p=0.27999999999999997, inplace=False)\n",
              "      (2): Linear(in_features=1200, out_features=50, bias=True)\n",
              "      (3): ReLU(inplace=True)\n",
              "      (4): BatchNorm1d(50, eps=1e-05, momentum=0.1, affine=True, track_running_stats=True)\n",
              "      (5): Dropout(p=0.1, inplace=False)\n",
              "      (6): Linear(in_features=50, out_features=2, bias=True)\n",
              "    )\n",
              "  )\n",
              ")], add_time=True, silent=False)"
            ]
          },
          "metadata": {},
          "execution_count": 60
        }
      ]
    },
    {
      "cell_type": "code",
      "metadata": {
        "id": "yQzxgvqSTjHi",
        "colab": {
          "base_uri": "https://localhost:8080/",
          "height": 481
        },
        "outputId": "f16be5d6-1a86-40ea-c878-f4e3e9350659"
      },
      "source": [
        "# train classifier\n",
        "learn_classifier.lr_find()\n",
        "learn_classifier.recorder.plot(suggestion=True)"
      ],
      "execution_count": null,
      "outputs": [
        {
          "output_type": "display_data",
          "data": {
            "text/plain": [
              "<IPython.core.display.HTML object>"
            ],
            "text/html": [
              "\n",
              "<style>\n",
              "    /* Turns off some styling */\n",
              "    progress {\n",
              "        /* gets rid of default border in Firefox and Opera. */\n",
              "        border: none;\n",
              "        /* Needs to be in here for Safari polyfill so background images work as expected. */\n",
              "        background-size: auto;\n",
              "    }\n",
              "    .progress-bar-interrupted, .progress-bar-interrupted::-webkit-progress-bar {\n",
              "        background: #F44336;\n",
              "    }\n",
              "</style>\n"
            ]
          },
          "metadata": {}
        },
        {
          "output_type": "display_data",
          "data": {
            "text/plain": [
              "<IPython.core.display.HTML object>"
            ],
            "text/html": [
              "\n",
              "    <div>\n",
              "      <progress value='0' class='' max='1' style='width:300px; height:20px; vertical-align: middle;'></progress>\n",
              "      0.00% [0/1 00:00<00:00]\n",
              "    </div>\n",
              "    \n",
              "<table border=\"1\" class=\"dataframe\">\n",
              "  <thead>\n",
              "    <tr style=\"text-align: left;\">\n",
              "      <th>epoch</th>\n",
              "      <th>train_loss</th>\n",
              "      <th>valid_loss</th>\n",
              "      <th>accuracy</th>\n",
              "      <th>time</th>\n",
              "    </tr>\n",
              "  </thead>\n",
              "  <tbody>\n",
              "  </tbody>\n",
              "</table><p>\n",
              "\n",
              "    <div>\n",
              "      <progress value='91' class='' max='121' style='width:300px; height:20px; vertical-align: middle;'></progress>\n",
              "      75.21% [91/121 00:04<00:01 0.7648]\n",
              "    </div>\n",
              "    "
            ]
          },
          "metadata": {}
        },
        {
          "output_type": "stream",
          "name": "stderr",
          "text": [
            "/usr/local/lib/python3.7/dist-packages/fastai/text/data.py:124: VisibleDeprecationWarning: Creating an ndarray from ragged nested sequences (which is a list-or-tuple of lists-or-tuples-or ndarrays with different lengths or shapes) is deprecated. If you meant to do this, you must specify 'dtype=object' when creating the ndarray.\n",
            "  sort_idx = np.concatenate(np.random.permutation(ck_idx[1:])) if len(ck_idx) > 1 else np.array([],dtype=np.int)\n",
            "<string>:6: VisibleDeprecationWarning: Creating an ndarray from ragged nested sequences (which is a list-or-tuple of lists-or-tuples-or ndarrays with different lengths or shapes) is deprecated. If you meant to do this, you must specify 'dtype=object' when creating the ndarray.\n"
          ]
        },
        {
          "output_type": "stream",
          "name": "stdout",
          "text": [
            "LR Finder is complete, type {learner_name}.recorder.plot() to see the graph.\n",
            "Min numerical gradient: 1.45E-01\n",
            "Min loss divided by 10: 6.31E-02\n"
          ]
        },
        {
          "output_type": "display_data",
          "data": {
            "text/plain": [
              "<Figure size 432x288 with 1 Axes>"
            ],
            "image/png": "[encoded data removed]"
          },
          "metadata": {
            "needs_background": "light"
          }
        }
      ]
    },
    {
      "cell_type": "code",
      "metadata": {
        "id": "7boiRtwsTjHi",
        "colab": {
          "base_uri": "https://localhost:8080/",
          "height": 487
        },
        "outputId": "9367cd37-510e-406b-e9a7-d1ad7f92367e"
      },
      "source": [
        "learn_classifier.fit_one_cycle(5, max_lr=1e-2, moms=(0.8,0.7))"
      ],
      "execution_count": null,
      "outputs": [
        {
          "output_type": "display_data",
          "data": {
            "text/plain": [
              "<IPython.core.display.HTML object>"
            ],
            "text/html": [
              "\n",
              "<style>\n",
              "    /* Turns off some styling */\n",
              "    progress {\n",
              "        /* gets rid of default border in Firefox and Opera. */\n",
              "        border: none;\n",
              "        /* Needs to be in here for Safari polyfill so background images work as expected. */\n",
              "        background-size: auto;\n",
              "    }\n",
              "    .progress-bar-interrupted, .progress-bar-interrupted::-webkit-progress-bar {\n",
              "        background: #F44336;\n",
              "    }\n",
              "</style>\n"
            ]
          },
          "metadata": {}
        },
        {
          "output_type": "display_data",
          "data": {
            "text/plain": [
              "<IPython.core.display.HTML object>"
            ],
            "text/html": [
              "<table border=\"1\" class=\"dataframe\">\n",
              "  <thead>\n",
              "    <tr style=\"text-align: left;\">\n",
              "      <th>epoch</th>\n",
              "      <th>train_loss</th>\n",
              "      <th>valid_loss</th>\n",
              "      <th>accuracy</th>\n",
              "      <th>time</th>\n",
              "    </tr>\n",
              "  </thead>\n",
              "  <tbody>\n",
              "    <tr>\n",
              "      <td>0</td>\n",
              "      <td>0.409516</td>\n",
              "      <td>0.083778</td>\n",
              "      <td>0.977273</td>\n",
              "      <td>00:08</td>\n",
              "    </tr>\n",
              "    <tr>\n",
              "      <td>1</td>\n",
              "      <td>0.196723</td>\n",
              "      <td>0.059730</td>\n",
              "      <td>0.985048</td>\n",
              "      <td>00:09</td>\n",
              "    </tr>\n",
              "    <tr>\n",
              "      <td>2</td>\n",
              "      <td>0.134856</td>\n",
              "      <td>0.074992</td>\n",
              "      <td>0.984450</td>\n",
              "      <td>00:09</td>\n",
              "    </tr>\n",
              "    <tr>\n",
              "      <td>3</td>\n",
              "      <td>0.103332</td>\n",
              "      <td>0.072663</td>\n",
              "      <td>0.985048</td>\n",
              "      <td>00:08</td>\n",
              "    </tr>\n",
              "    <tr>\n",
              "      <td>4</td>\n",
              "      <td>0.096041</td>\n",
              "      <td>0.076968</td>\n",
              "      <td>0.987440</td>\n",
              "      <td>00:09</td>\n",
              "    </tr>\n",
              "  </tbody>\n",
              "</table>"
            ]
          },
          "metadata": {}
        },
        {
          "output_type": "stream",
          "name": "stderr",
          "text": [
            "/usr/local/lib/python3.7/dist-packages/fastai/text/data.py:124: VisibleDeprecationWarning: Creating an ndarray from ragged nested sequences (which is a list-or-tuple of lists-or-tuples-or ndarrays with different lengths or shapes) is deprecated. If you meant to do this, you must specify 'dtype=object' when creating the ndarray.\n",
            "  sort_idx = np.concatenate(np.random.permutation(ck_idx[1:])) if len(ck_idx) > 1 else np.array([],dtype=np.int)\n",
            "<string>:6: VisibleDeprecationWarning: Creating an ndarray from ragged nested sequences (which is a list-or-tuple of lists-or-tuples-or ndarrays with different lengths or shapes) is deprecated. If you meant to do this, you must specify 'dtype=object' when creating the ndarray.\n",
            "/usr/local/lib/python3.7/dist-packages/fastai/text/data.py:124: VisibleDeprecationWarning: Creating an ndarray from ragged nested sequences (which is a list-or-tuple of lists-or-tuples-or ndarrays with different lengths or shapes) is deprecated. If you meant to do this, you must specify 'dtype=object' when creating the ndarray.\n",
            "  sort_idx = np.concatenate(np.random.permutation(ck_idx[1:])) if len(ck_idx) > 1 else np.array([],dtype=np.int)\n",
            "<string>:6: VisibleDeprecationWarning: Creating an ndarray from ragged nested sequences (which is a list-or-tuple of lists-or-tuples-or ndarrays with different lengths or shapes) is deprecated. If you meant to do this, you must specify 'dtype=object' when creating the ndarray.\n",
            "/usr/local/lib/python3.7/dist-packages/fastai/text/data.py:124: VisibleDeprecationWarning: Creating an ndarray from ragged nested sequences (which is a list-or-tuple of lists-or-tuples-or ndarrays with different lengths or shapes) is deprecated. If you meant to do this, you must specify 'dtype=object' when creating the ndarray.\n",
            "  sort_idx = np.concatenate(np.random.permutation(ck_idx[1:])) if len(ck_idx) > 1 else np.array([],dtype=np.int)\n",
            "<string>:6: VisibleDeprecationWarning: Creating an ndarray from ragged nested sequences (which is a list-or-tuple of lists-or-tuples-or ndarrays with different lengths or shapes) is deprecated. If you meant to do this, you must specify 'dtype=object' when creating the ndarray.\n",
            "/usr/local/lib/python3.7/dist-packages/fastai/text/data.py:124: VisibleDeprecationWarning: Creating an ndarray from ragged nested sequences (which is a list-or-tuple of lists-or-tuples-or ndarrays with different lengths or shapes) is deprecated. If you meant to do this, you must specify 'dtype=object' when creating the ndarray.\n",
            "  sort_idx = np.concatenate(np.random.permutation(ck_idx[1:])) if len(ck_idx) > 1 else np.array([],dtype=np.int)\n",
            "<string>:6: VisibleDeprecationWarning: Creating an ndarray from ragged nested sequences (which is a list-or-tuple of lists-or-tuples-or ndarrays with different lengths or shapes) is deprecated. If you meant to do this, you must specify 'dtype=object' when creating the ndarray.\n",
            "/usr/local/lib/python3.7/dist-packages/fastai/text/data.py:124: VisibleDeprecationWarning: Creating an ndarray from ragged nested sequences (which is a list-or-tuple of lists-or-tuples-or ndarrays with different lengths or shapes) is deprecated. If you meant to do this, you must specify 'dtype=object' when creating the ndarray.\n",
            "  sort_idx = np.concatenate(np.random.permutation(ck_idx[1:])) if len(ck_idx) > 1 else np.array([],dtype=np.int)\n",
            "<string>:6: VisibleDeprecationWarning: Creating an ndarray from ragged nested sequences (which is a list-or-tuple of lists-or-tuples-or ndarrays with different lengths or shapes) is deprecated. If you meant to do this, you must specify 'dtype=object' when creating the ndarray.\n"
          ]
        }
      ]
    },
    {
      "cell_type": "code",
      "metadata": {
        "id": "ToR6na02TjHi",
        "colab": {
          "base_uri": "https://localhost:8080/",
          "height": 279
        },
        "outputId": "6e1fdb5a-d2c0-4d5e-ed29-444552023720"
      },
      "source": [
        "learn_classifier.recorder.plot_losses()"
      ],
      "execution_count": null,
      "outputs": [
        {
          "output_type": "display_data",
          "data": {
            "text/plain": [
              "<Figure size 432x288 with 1 Axes>"
            ],
            "image/png": "[encoded data removed]"
          },
          "metadata": {
            "needs_background": "light"
          }
        }
      ]
    },
    {
      "cell_type": "code",
      "metadata": {
        "id": "BLHJl3oQTjHi",
        "colab": {
          "base_uri": "https://localhost:8080/",
          "height": 481
        },
        "outputId": "216cdfb7-f409-4f9f-c3cf-5c2e3c87d20f"
      },
      "source": [
        "lang_mod.freeze_to(-1)\n",
        "\n",
        "learn_classifier.lr_find()\n",
        "learn_classifier.recorder.plot(suggestion=True)"
      ],
      "execution_count": null,
      "outputs": [
        {
          "output_type": "display_data",
          "data": {
            "text/plain": [
              "<IPython.core.display.HTML object>"
            ],
            "text/html": [
              "\n",
              "<style>\n",
              "    /* Turns off some styling */\n",
              "    progress {\n",
              "        /* gets rid of default border in Firefox and Opera. */\n",
              "        border: none;\n",
              "        /* Needs to be in here for Safari polyfill so background images work as expected. */\n",
              "        background-size: auto;\n",
              "    }\n",
              "    .progress-bar-interrupted, .progress-bar-interrupted::-webkit-progress-bar {\n",
              "        background: #F44336;\n",
              "    }\n",
              "</style>\n"
            ]
          },
          "metadata": {}
        },
        {
          "output_type": "display_data",
          "data": {
            "text/plain": [
              "<IPython.core.display.HTML object>"
            ],
            "text/html": [
              "\n",
              "    <div>\n",
              "      <progress value='0' class='' max='1' style='width:300px; height:20px; vertical-align: middle;'></progress>\n",
              "      0.00% [0/1 00:00<00:00]\n",
              "    </div>\n",
              "    \n",
              "<table border=\"1\" class=\"dataframe\">\n",
              "  <thead>\n",
              "    <tr style=\"text-align: left;\">\n",
              "      <th>epoch</th>\n",
              "      <th>train_loss</th>\n",
              "      <th>valid_loss</th>\n",
              "      <th>accuracy</th>\n",
              "      <th>time</th>\n",
              "    </tr>\n",
              "  </thead>\n",
              "  <tbody>\n",
              "  </tbody>\n",
              "</table><p>\n",
              "\n",
              "    <div>\n",
              "      <progress value='78' class='' max='121' style='width:300px; height:20px; vertical-align: middle;'></progress>\n",
              "      64.46% [78/121 00:03<00:02 0.1396]\n",
              "    </div>\n",
              "    "
            ]
          },
          "metadata": {}
        },
        {
          "output_type": "stream",
          "name": "stderr",
          "text": [
            "/usr/local/lib/python3.7/dist-packages/fastai/text/data.py:124: VisibleDeprecationWarning: Creating an ndarray from ragged nested sequences (which is a list-or-tuple of lists-or-tuples-or ndarrays with different lengths or shapes) is deprecated. If you meant to do this, you must specify 'dtype=object' when creating the ndarray.\n",
            "  sort_idx = np.concatenate(np.random.permutation(ck_idx[1:])) if len(ck_idx) > 1 else np.array([],dtype=np.int)\n",
            "<string>:6: VisibleDeprecationWarning: Creating an ndarray from ragged nested sequences (which is a list-or-tuple of lists-or-tuples-or ndarrays with different lengths or shapes) is deprecated. If you meant to do this, you must specify 'dtype=object' when creating the ndarray.\n"
          ]
        },
        {
          "output_type": "stream",
          "name": "stdout",
          "text": [
            "LR Finder is complete, type {learner_name}.recorder.plot() to see the graph.\n",
            "Min numerical gradient: 1.20E-03\n",
            "Min loss divided by 10: 9.12E-08\n"
          ]
        },
        {
          "output_type": "display_data",
          "data": {
            "text/plain": [
              "<Figure size 432x288 with 1 Axes>"
            ],
            "image/png": "[encoded data removed]"
          },
          "metadata": {
            "needs_background": "light"
          }
        }
      ]
    },
    {
      "cell_type": "markdown",
      "metadata": {
        "id": "ZyADkr6yTyG9"
      },
      "source": [
        "Test out the classification model on spam and non-spam examples."
      ]
    },
    {
      "cell_type": "code",
      "metadata": {
        "colab": {
          "base_uri": "https://localhost:8080/"
        },
        "id": "Y_KKaOnrTjHj",
        "outputId": "97eddb36-3046-49c0-c5fc-5d17320387c9"
      },
      "source": [
        "# predict\n",
        "learn_classifier.predict('did you buy the groceries for dinner? :)')"
      ],
      "execution_count": null,
      "outputs": [
        {
          "output_type": "execute_result",
          "data": {
            "text/plain": [
              "(Category tensor(0), tensor(0), tensor([1.0000e+00, 2.9491e-08]))"
            ]
          },
          "metadata": {},
          "execution_count": 65
        }
      ]
    },
    {
      "cell_type": "code",
      "metadata": {
        "colab": {
          "base_uri": "https://localhost:8080/"
        },
        "id": "A8Xv4N9STjHj",
        "outputId": "00c9fb64-1f07-4959-8fe8-577fa2e31fee"
      },
      "source": [
        "# predict\n",
        "learn_classifier.predict('Free entry call back now')"
      ],
      "execution_count": null,
      "outputs": [
        {
          "output_type": "execute_result",
          "data": {
            "text/plain": [
              "(Category tensor(0), tensor(0), tensor([0.5608, 0.4392]))"
            ]
          },
          "metadata": {},
          "execution_count": 66
        }
      ]
    },
    {
      "cell_type": "code",
      "metadata": {
        "colab": {
          "base_uri": "https://localhost:8080/",
          "height": 35
        },
        "id": "jkvU1PvTTjHj",
        "outputId": "04b0ca06-8e1d-4195-82c6-7aa56d8d245d"
      },
      "source": [
        "# get predictions from validation\n",
        "valid_preds, valid_label=learn_classifier.get_preds(ds_type=DatasetType.Valid, ordered=True)\n",
        "valid_preds.shape"
      ],
      "execution_count": null,
      "outputs": [
        {
          "output_type": "display_data",
          "data": {
            "text/plain": [
              "<IPython.core.display.HTML object>"
            ],
            "text/html": [
              "\n",
              "<style>\n",
              "    /* Turns off some styling */\n",
              "    progress {\n",
              "        /* gets rid of default border in Firefox and Opera. */\n",
              "        border: none;\n",
              "        /* Needs to be in here for Safari polyfill so background images work as expected. */\n",
              "        background-size: auto;\n",
              "    }\n",
              "    .progress-bar-interrupted, .progress-bar-interrupted::-webkit-progress-bar {\n",
              "        background: #F44336;\n",
              "    }\n",
              "</style>\n"
            ]
          },
          "metadata": {}
        },
        {
          "output_type": "display_data",
          "data": {
            "text/plain": [
              "<IPython.core.display.HTML object>"
            ],
            "text/html": [
              ""
            ]
          },
          "metadata": {}
        },
        {
          "output_type": "execute_result",
          "data": {
            "text/plain": [
              "torch.Size([1672, 2])"
            ]
          },
          "metadata": {},
          "execution_count": 67
        }
      ]
    },
    {
      "cell_type": "markdown",
      "metadata": {
        "id": "s4UopYcrWw38"
      },
      "source": [
        "## Evaluate Performance"
      ]
    },
    {
      "cell_type": "code",
      "metadata": {
        "id": "hJFv4ywTWw4F",
        "colab": {
          "base_uri": "https://localhost:8080/"
        },
        "outputId": "c6434da2-d856-46fe-81cd-0a867347caa3"
      },
      "source": [
        "valid_preds"
      ],
      "execution_count": null,
      "outputs": [
        {
          "output_type": "execute_result",
          "data": {
            "text/plain": [
              "tensor([[9.9989e-01, 1.0648e-04],\n",
              "        [3.0712e-02, 9.6929e-01],\n",
              "        [9.9985e-01, 1.5295e-04],\n",
              "        ...,\n",
              "        [1.9277e-02, 9.8072e-01],\n",
              "        [1.0000e+00, 4.1672e-13],\n",
              "        [3.1453e-01, 6.8547e-01]])"
            ]
          },
          "metadata": {},
          "execution_count": 68
        }
      ]
    },
    {
      "cell_type": "code",
      "source": [
        "valid_label"
      ],
      "metadata": {
        "colab": {
          "base_uri": "https://localhost:8080/"
        },
        "id": "X1vZbqBbvQri",
        "outputId": "3693572e-941a-473d-c9e1-4e3ecab698a7"
      },
      "execution_count": null,
      "outputs": [
        {
          "output_type": "execute_result",
          "data": {
            "text/plain": [
              "tensor([0, 1, 0,  ..., 1, 0, 1])"
            ]
          },
          "metadata": {},
          "execution_count": 69
        }
      ]
    },
    {
      "cell_type": "code",
      "source": [
        "correct, total = 0, 0\n",
        "pred_2 = valid_preds.max(1, keepdim=True)[1]\n",
        "correct += pred_2.eq(valid_label.view_as(pred_2)).sum().item()\n",
        "total += valid_label.shape[0]\n",
        "correct / total"
      ],
      "metadata": {
        "colab": {
          "base_uri": "https://localhost:8080/"
        },
        "id": "1oD21HhkvYNi",
        "outputId": "66bed276-72ea-465d-83ee-7d8888c14ad4"
      },
      "execution_count": null,
      "outputs": [
        {
          "output_type": "execute_result",
          "data": {
            "text/plain": [
              "0.9874401913875598"
            ]
          },
          "metadata": {},
          "execution_count": 70
        }
      ]
    },
    {
      "cell_type": "markdown",
      "source": [
        "The validation accuracy obtained by ULMFit and the validation accuracy achieved by RNN in the first part are similar, but ULMFit takes shorter time to train, and is thus more efficient than regular RNN model."
      ],
      "metadata": {
        "id": "mqLF3z-wipRm"
      }
    },
    {
      "cell_type": "markdown",
      "metadata": {
        "id": "ybdyEKx5Ww4F"
      },
      "source": [
        "\n",
        "A confusion matrix of the performance for the two models is provided. "
      ]
    },
    {
      "cell_type": "code",
      "metadata": {
        "id": "vuxLCHhFWw4F"
      },
      "source": [
        "from sklearn.metrics import confusion_matrix\n",
        "import seaborn as sns\n",
        "import pandas as pd\n",
        "import matplotlib.pyplot as plt"
      ],
      "execution_count": null,
      "outputs": []
    },
    {
      "cell_type": "code",
      "source": [
        "preds_1=[]\n",
        "valid_1=[]\n",
        "txt=[]\n",
        "for batch in valid_iter1:\n",
        "    texts=batch.sms[0]\n",
        "    labels=batch.label\n",
        "    output_1 = gen_best(texts)\n",
        "    text=[texts.tolist()[i] for i in range(len(texts))]\n",
        "    txt.append(text)\n",
        "    pred_1 = output_1.max(1, keepdim=True)[1]\n",
        "    pred_01=[pred_1.tolist()[i][0] for i in range(len(pred_1))]\n",
        "    preds_1.append(pred_01)\n",
        "    valid_1.append(labels.tolist())"
      ],
      "metadata": {
        "id": "61frMdBazqYe"
      },
      "execution_count": null,
      "outputs": []
    },
    {
      "cell_type": "code",
      "source": [
        "flat_true= [item for sublist in valid_1 for item in sublist]\n",
        "flat_pred = [item for sublist in preds_1 for item in sublist]\n",
        "flat_txt = [item for sublist in txt for item in sublist]"
      ],
      "metadata": {
        "id": "f0axXnLM3guC"
      },
      "execution_count": null,
      "outputs": []
    },
    {
      "cell_type": "code",
      "source": [
        "#for RNN model in part 1\n",
        "df_cm_1=pd.DataFrame(data=confusion_matrix(flat_true, flat_pred))\n",
        "plt.figure(figsize = (6,2))\n",
        "l = sns.heatmap(df_cm_1, annot=True)"
      ],
      "metadata": {
        "colab": {
          "base_uri": "https://localhost:8080/",
          "height": 157
        },
        "id": "IPGWhSQ1zY41",
        "outputId": "61b57e23-a26f-40fd-9e67-bbd5a47a5ada"
      },
      "execution_count": null,
      "outputs": [
        {
          "output_type": "display_data",
          "data": {
            "text/plain": [
              "<Figure size 432x144 with 2 Axes>"
            ],
            "image/png": "[encoded data removed]"
          },
          "metadata": {
            "needs_background": "light"
          }
        }
      ]
    },
    {
      "cell_type": "code",
      "source": [
        "#for ULMFit model\n",
        "df_cm_2=pd.DataFrame(data=confusion_matrix(valid_label,pred_2))\n",
        "plt.figure(figsize = (6,2))\n",
        "l = sns.heatmap(df_cm_2, annot=True)"
      ],
      "metadata": {
        "colab": {
          "base_uri": "https://localhost:8080/",
          "height": 157
        },
        "id": "ly1wPecAyilQ",
        "outputId": "d1e79fc0-9658-4f11-e209-282d1cf2580a"
      },
      "execution_count": null,
      "outputs": [
        {
          "output_type": "display_data",
          "data": {
            "text/plain": [
              "<Figure size 432x144 with 2 Axes>"
            ],
            "image/png": "[encoded data removed]"
          },
          "metadata": {
            "needs_background": "light"
          }
        }
      ]
    },
    {
      "cell_type": "markdown",
      "source": [
        "As it can be seen, the performance of the two models doesn't vary too much as the number of falsely categorized samples are both low. The outcome of the two models differs mainly on the false positive predictions - the ULMFit model doesn't have false positive predictions while the RNN model has both false positive and false negative predictions. "
      ],
      "metadata": {
        "id": "i9bf5cXZ8r6u"
      }
    },
    {
      "cell_type": "code",
      "source": [
        "pt2_txt=np.array(df_val['text'])"
      ],
      "metadata": {
        "id": "hanQpmAPFMh5"
      },
      "execution_count": null,
      "outputs": []
    },
    {
      "cell_type": "code",
      "source": [
        "#print the false postive of model 1\n",
        "for i in range(len(flat_true)):\n",
        "  if flat_true[i]==0 and flat_pred[i]==1:\n",
        "    print(\"\".join([text_field.vocab.itos[w] for w in flat_txt[i]]))"
      ],
      "metadata": {
        "colab": {
          "base_uri": "https://localhost:8080/"
        },
        "id": "c6U69ashGNDI",
        "outputId": "6dfeccd8-2c5f-40ec-c91e-4cf85c7f8976"
      },
      "execution_count": null,
      "outputs": [
        {
          "output_type": "stream",
          "name": "stdout",
          "text": [
            "Dunno da next show aft 6 is 850. Toa payoh got 650.\n",
            "Hey...Great deal...Farm tour 9am to 5pm $95/pax, $50 deposit by 16 May<pad><pad><pad>\n"
          ]
        }
      ]
    },
    {
      "cell_type": "code",
      "source": [
        "#print the false positive for model 2\n",
        "for i in range(len(valid_label)):\n",
        "  if valid_label[i]==0 and pred_2[i]==1:\n",
        "    print(pt2_txt[i])"
      ],
      "metadata": {
        "colab": {
          "base_uri": "https://localhost:8080/"
        },
        "id": "4UqewzD6NVlz",
        "outputId": "a649247c-7311-41b2-e228-8e74a26e1528"
      },
      "execution_count": null,
      "outputs": [
        {
          "output_type": "stream",
          "name": "stdout",
          "text": [
            "Honeybee Said: *I'm d Sweetest in d World* God Laughed &amp; Said: *Wait,U Havnt Met d Person Reading This Msg* MORAL: Even GOD Can Crack Jokes! GM+GN+GE+GN:)\n",
            "Send ur birthdate with month and year, I will tel u ur LIFE PARTNER'S name. and the method of calculation. Reply must.\n",
            "Today is ACCEPT DAY..U Accept me as? Brother Sister Lover Dear1 Best1 Clos1 Lvblefrnd Jstfrnd Cutefrnd Lifpartnr Belovd Swtheart Bstfrnd No rply means enemy\n"
          ]
        }
      ]
    },
    {
      "cell_type": "code",
      "source": [
        "#print the false negative of model 1\n",
        "for i in range(len(flat_true)):\n",
        "  if flat_true[i]==1 and flat_pred[i]==0:\n",
        "    print(\"\".join([text_field.vocab.itos[w] for w in flat_txt[i]]))"
      ],
      "metadata": {
        "colab": {
          "base_uri": "https://localhost:8080/"
        },
        "id": "pza7aRW5MkLc",
        "outputId": "9796aa52-f9b3-49ee-9b5f-245cecf57b7c"
      },
      "execution_count": null,
      "outputs": [
        {
          "output_type": "stream",
          "name": "stdout",
          "text": [
            "RCT' THNQ Adrian for U text. Rgds Vatian<pad><pad><pad>\n",
            "tddnewsletter@emc1.co.uk (More games from TheDailyDraw) Dear Helen, Dozens of Free Games - with great prizesWith..<pad><pad><pad><pad>\n",
            "Hi this is Amy, we will be sending you a free phone number in a couple of days, which will give you an access to all the adult parties...<pad><pad><pad><pad><pad><pad>\n",
            "Will u meet ur dream partner soon? Is ur career off 2 a flyng start? 2 find out free, txt HORO followed by ur star sign, e. g. HORO ARIES<pad><pad><pad><pad><pad><pad>\n",
            "Would you like to see my XXX pics they are so hot they were nearly banned in the uk!<pad><pad><pad><pad><pad>\n",
            "Are you unique enough? Find out from 30th August. www.areyouunique.co.uk<pad>\n",
            "This message is brought to you by GMW Ltd. and is not connected to the<pad><pad><pad>\n"
          ]
        }
      ]
    },
    {
      "cell_type": "code",
      "source": [
        "#print the false negative of model 2 \n",
        "for i in range(len(valid_label)):\n",
        "  if valid_label[i]==1 and pred_2[i]==0:\n",
        "    print(pt2_txt[i])"
      ],
      "metadata": {
        "colab": {
          "base_uri": "https://localhost:8080/"
        },
        "id": "5xtma56SNJau",
        "outputId": "45e99187-9eac-49e8-8439-b927d5c4e3ba"
      },
      "execution_count": null,
      "outputs": [
        {
          "output_type": "stream",
          "name": "stdout",
          "text": [
            "Oh my god! I've found your number again! I'm so glad, text me back xafter this msgs cst std ntwk chg £1.50\n",
            "Ur balance is now £600. Next question: Complete the landmark, Big, A. Bob, B. Barry or C. Ben ?. Text A, B or C to 83738. Good luck!\n",
            "For the most sparkling shopping breaks from 45 per person; call 0121 2025050 or visit www.shortbreaks.org.uk\n",
            "Twinks, bears, scallies, skins and jocks are calling now. Don't miss the weekend's fun. Call 08712466669 at 10p/min. 2 stop texts call 08712460324(nat rate)\n",
            "accordingly. I repeat, just text the word ok on your mobile phone and send\n",
            "New Tones This week include: 1)McFly-All Ab.., 2) Sara Jorge-Shock.. 3) Will Smith-Switch.. To order follow instructions on next message\n",
            "For sale - arsenal dartboard. Good condition but no doubles or trebles!\n",
            "Sorry I missed your call let's talk when you have the time. I'm on 07090201529\n",
            "Are you unique enough? Find out from 30th August. www.areyouunique.co.uk\n",
            "Missed call alert. These numbers called but left no message. 07008009200\n",
            "thesmszone.com lets you send free anonymous and masked messages..im sending this message from there..do you see the potential for abuse???\n",
            "How come it takes so little time for a child who is afraid of the dark to become a teenager who wants to stay out all night?\n",
            "LookAtMe!: Thanks for your purchase of a video clip from LookAtMe!, you've been charged 35p. Think you can do better? Why not send a video in a MMSto 32323.\n",
            "ringtoneking 84484\n",
            "3. You have received your mobile content. Enjoy\n",
            "Block Breaker now comes in deluxe format with new features and great graphics from T-Mobile. Buy for just £5 by replying GET BBDELUXE and take the challenge\n",
            "You are now unsubscribed all services. Get tons of sexy babes or hunks straight to your phone! go to http://gotbabes.co.uk. No subscriptions.\n",
            "Santa Calling! Would your little ones like a call from Santa Xmas eve? Call 09058094583 to book your time.\n"
          ]
        }
      ]
    },
    {
      "cell_type": "markdown",
      "metadata": {
        "id": "F9BpSLGBWw4F"
      },
      "source": [
        "## Evaluate on New Data "
      ]
    },
    {
      "cell_type": "code",
      "metadata": {
        "id": "Ho0F4VMCnzXR",
        "colab": {
          "base_uri": "https://localhost:8080/"
        },
        "outputId": "8228bff6-b535-44eb-fc27-5f4b8e716b6f"
      },
      "source": [
        "learn_classifier.predict('machine learning is sooo cool!')"
      ],
      "execution_count": null,
      "outputs": [
        {
          "output_type": "execute_result",
          "data": {
            "text/plain": [
              "(Category tensor(0), tensor(0), tensor([1.0000e+00, 9.2349e-19]))"
            ]
          },
          "metadata": {},
          "execution_count": 122
        }
      ]
    },
    {
      "cell_type": "markdown",
      "metadata": {
        "id": "H4FlSj_Mn2yY"
      },
      "source": [
        "\n",
        "Load 5 sample sentences from spam mail and test it out on the two models created.\n"
      ]
    },
    {
      "cell_type": "code",
      "metadata": {
        "id": "y3DCyMW_n05f"
      },
      "source": [
        "spam_mail=[]\n",
        "ham_mail=[]\n",
        "i=0\n",
        "for k in range(100):\n",
        "  if i ==5:\n",
        "    break\n",
        "  if dataset[k].label==0:\n",
        "    ham_mail.append(dataset[k].sms)\n",
        "    i+=1"
      ],
      "execution_count": null,
      "outputs": []
    },
    {
      "cell_type": "code",
      "source": [
        "i=0\n",
        "for k in range(100):\n",
        "  if i ==5:\n",
        "    break\n",
        "  if dataset[k].label==1:\n",
        "    spam_mail.append(dataset[k].sms)\n",
        "    i+=1"
      ],
      "metadata": {
        "id": "_cSoSAPuQvGa"
      },
      "execution_count": null,
      "outputs": []
    },
    {
      "cell_type": "code",
      "source": [
        "spam_mail"
      ],
      "metadata": {
        "colab": {
          "base_uri": "https://localhost:8080/"
        },
        "id": "0irc_GthROQz",
        "outputId": "9f60cda7-368b-48c9-ae53-3498e2db890f"
      },
      "execution_count": null,
      "outputs": [
        {
          "output_type": "execute_result",
          "data": {
            "text/plain": [
              "[\"Free entry in 2 a wkly comp to win FA Cup final tkts 21st May 2005. Text FA to 87121 to receive entry question(std txt rate)T&C's apply 08452810075over18's\",\n",
              " \"FreeMsg Hey there darling it's been 3 week's now and no word back! I'd like some fun you up for it still? Tb ok! XxX std chgs to send, £1.50 to rcv\",\n",
              " 'WINNER!! As a valued network customer you have been selected to receivea £900 prize reward! To claim call 09061701461. Claim code KL341. Valid 12 hours only.',\n",
              " 'Had your mobile 11 months or more? U R entitled to Update to the latest colour mobiles with camera for Free! Call The Mobile Update Co FREE on 08002986030',\n",
              " 'SIX chances to win CASH! From 100 to 20,000 pounds txt> CSH11 and send to 87575. Cost 150p/day, 6days, 16+ TsandCs apply Reply HL 4 info']"
            ]
          },
          "metadata": {},
          "execution_count": 154
        }
      ]
    },
    {
      "cell_type": "code",
      "source": [
        "#model 1\n",
        "for l in range(5):\n",
        "  id_spam = [text_field.vocab.stoi[w]        # lookup the index of word\n",
        "          for w in spam_mail[l]\n",
        "          if w in text_field.vocab.stoi]\n",
        "  texts_spam=torch.Tensor(id_spam)\n",
        "  output_spam = gen_best(texts_spam.int().unsqueeze(0))\n",
        "  pred_spam=output_spam.max(1, keepdim=True)[1]\n",
        "  print(F.softmax(output_spam))"
      ],
      "metadata": {
        "colab": {
          "base_uri": "https://localhost:8080/"
        },
        "id": "US6jFWz5RVGU",
        "outputId": "9a29dd58-ca9e-4870-8a7a-b9265ac02bbb"
      },
      "execution_count": null,
      "outputs": [
        {
          "output_type": "stream",
          "name": "stdout",
          "text": [
            "tensor([[1.2061e-09, 1.0000e+00]], grad_fn=<SoftmaxBackward0>)\n",
            "tensor([[3.4508e-05, 9.9997e-01]], grad_fn=<SoftmaxBackward0>)\n",
            "tensor([[6.3432e-07, 1.0000e+00]], grad_fn=<SoftmaxBackward0>)\n",
            "tensor([[8.6598e-10, 1.0000e+00]], grad_fn=<SoftmaxBackward0>)\n",
            "tensor([[2.5923e-08, 1.0000e+00]], grad_fn=<SoftmaxBackward0>)\n"
          ]
        },
        {
          "output_type": "stream",
          "name": "stderr",
          "text": [
            "/usr/local/lib/python3.7/dist-packages/ipykernel_launcher.py:9: UserWarning: Implicit dimension choice for softmax has been deprecated. Change the call to include dim=X as an argument.\n",
            "  if __name__ == '__main__':\n"
          ]
        }
      ]
    },
    {
      "cell_type": "code",
      "source": [
        "#model 2\n",
        "for m in range(5):\n",
        "  print(learn_classifier.predict(spam_mail[m]))"
      ],
      "metadata": {
        "colab": {
          "base_uri": "https://localhost:8080/"
        },
        "id": "k5wtv96jRy5_",
        "outputId": "b52ff48c-7bc0-4875-8f62-a9f743f5d47b"
      },
      "execution_count": null,
      "outputs": [
        {
          "output_type": "stream",
          "name": "stdout",
          "text": [
            "(Category tensor(1), tensor(1), tensor([0.0064, 0.9936]))\n",
            "(Category tensor(1), tensor(1), tensor([0.2549, 0.7451]))\n",
            "(Category tensor(1), tensor(1), tensor([0.0244, 0.9756]))\n",
            "(Category tensor(1), tensor(1), tensor([0.0030, 0.9970]))\n",
            "(Category tensor(1), tensor(1), tensor([0.0086, 0.9914]))\n"
          ]
        }
      ]
    },
    {
      "cell_type": "markdown",
      "source": [
        "As it can be seen both models identified spam mails correctly."
      ],
      "metadata": {
        "id": "SiaXNAe_fG_w"
      }
    },
    {
      "cell_type": "markdown",
      "metadata": {
        "id": "646WjsAwWw4F"
      },
      "source": [
        "\n",
        "Load 5 sample sentences from  regular mail and test it out on the two models created. "
      ]
    },
    {
      "cell_type": "code",
      "source": [
        "ham_mail"
      ],
      "metadata": {
        "colab": {
          "base_uri": "https://localhost:8080/"
        },
        "id": "QkZUSzM9RNAR",
        "outputId": "95c8a27f-7498-42d6-ce57-d4031368c9f4"
      },
      "execution_count": null,
      "outputs": [
        {
          "output_type": "execute_result",
          "data": {
            "text/plain": [
              "['Go until jurong point, crazy.. Available only in bugis n great world la e buffet... Cine there got amore wat...',\n",
              " 'Ok lar... Joking wif u oni...',\n",
              " 'U dun say so early hor... U c already then say...',\n",
              " \"Nah I don't think he goes to usf, he lives around here though\",\n",
              " 'Even my brother is not like to speak with me. They treat me like aids patent.']"
            ]
          },
          "metadata": {},
          "execution_count": 153
        }
      ]
    },
    {
      "cell_type": "code",
      "metadata": {
        "id": "0OvvnW8OWw4G",
        "colab": {
          "base_uri": "https://localhost:8080/"
        },
        "outputId": "5ab05bdc-29d3-43ae-88dd-efce96405c8b"
      },
      "source": [
        "for l in range(5):\n",
        "  id_ham = [text_field.vocab.stoi[w]        # lookup the index of word\n",
        "          for w in ham_mail[l]\n",
        "          if w in text_field.vocab.stoi]\n",
        "  texts_ham=torch.Tensor(id_ham)\n",
        "  output_ham = gen_best(texts_ham.int().unsqueeze(0))\n",
        "  pred_ham=output_ham.max(1, keepdim=True)[1]\n",
        "  print(F.softmax(output_ham))"
      ],
      "execution_count": null,
      "outputs": [
        {
          "output_type": "stream",
          "name": "stdout",
          "text": [
            "tensor([[1.0000e+00, 4.1154e-06]], grad_fn=<SoftmaxBackward0>)\n",
            "tensor([[1.0000e+00, 8.9881e-11]], grad_fn=<SoftmaxBackward0>)\n",
            "tensor([[1.0000e+00, 1.1860e-10]], grad_fn=<SoftmaxBackward0>)\n",
            "tensor([[1.0000e+00, 9.7360e-09]], grad_fn=<SoftmaxBackward0>)\n",
            "tensor([[9.9997e-01, 2.7671e-05]], grad_fn=<SoftmaxBackward0>)\n"
          ]
        },
        {
          "output_type": "stream",
          "name": "stderr",
          "text": [
            "/usr/local/lib/python3.7/dist-packages/ipykernel_launcher.py:8: UserWarning: Implicit dimension choice for softmax has been deprecated. Change the call to include dim=X as an argument.\n",
            "  \n"
          ]
        }
      ]
    },
    {
      "cell_type": "code",
      "source": [
        "#model 2\n",
        "for m in range(5):\n",
        "  print(learn_classifier.predict(ham_mail[m]))"
      ],
      "metadata": {
        "colab": {
          "base_uri": "https://localhost:8080/"
        },
        "id": "2wkVD_IBSw3s",
        "outputId": "e5e8e537-3874-4b1f-9461-430a4a76feaa"
      },
      "execution_count": null,
      "outputs": [
        {
          "output_type": "stream",
          "name": "stdout",
          "text": [
            "(Category tensor(0), tensor(0), tensor([0.9971, 0.0029]))\n",
            "(Category tensor(0), tensor(0), tensor([1.0000e+00, 1.2899e-14]))\n",
            "(Category tensor(0), tensor(0), tensor([1.0000e+00, 9.6519e-24]))\n",
            "(Category tensor(0), tensor(0), tensor([1.0000e+00, 8.0824e-13]))\n",
            "(Category tensor(0), tensor(0), tensor([9.9981e-01, 1.8798e-04]))\n"
          ]
        }
      ]
    },
    {
      "cell_type": "markdown",
      "source": [
        "As it can be seen, both models predicted the non-spam mails labels correctly. "
      ],
      "metadata": {
        "id": "Zxp_JtdSfN7c"
      }
    }
  ]
}